{
  "nbformat": 4,
  "nbformat_minor": 0,
  "metadata": {
    "colab": {
      "provenance": [],
      "authorship_tag": "ABX9TyO3Bgw+ymzyzy4NRN1OqLmp",
      "include_colab_link": true
    },
    "kernelspec": {
      "name": "python3",
      "display_name": "Python 3"
    },
    "language_info": {
      "name": "python"
    }
  },
  "cells": [
    {
      "cell_type": "markdown",
      "metadata": {
        "id": "view-in-github",
        "colab_type": "text"
      },
      "source": [
        "<a href=\"https://colab.research.google.com/github/EchoFalcon3/Functions/blob/main/practicefile.ipynb\" target=\"_parent\"><img src=\"https://colab.research.google.com/assets/colab-badge.svg\" alt=\"Open In Colab\"/></a>"
      ]
    },
    {
      "cell_type": "code",
      "execution_count": null,
      "metadata": {
        "id": "yn8Ip8aXT6lB",
        "colab": {
          "base_uri": "https://localhost:8080/"
        },
        "outputId": "7cf055e6-0669-4e87-af8e-23e61ad341bc"
      },
      "outputs": [
        {
          "output_type": "stream",
          "name": "stdout",
          "text": [
            "6\n",
            "012345"
          ]
        }
      ],
      "source": [
        "n = int(input())\n",
        "for i in range(n):\n",
        "    print(i, end='')"
      ]
    },
    {
      "cell_type": "code",
      "source": [
        "nums = [1,2,3,4,5,6,7,8,9,10]\n",
        "result = [n*n for n in nums if n % 2 == 0]\n",
        "\n",
        "print(result)\n"
      ],
      "metadata": {
        "colab": {
          "base_uri": "https://localhost:8080/"
        },
        "id": "VnP6jYrdpx74",
        "outputId": "fd58bb35-a3f4-429f-fbc2-efb7835a4c88"
      },
      "execution_count": null,
      "outputs": [
        {
          "output_type": "stream",
          "name": "stdout",
          "text": [
            "[4, 16, 36, 64, 100]\n"
          ]
        }
      ]
    },
    {
      "cell_type": "code",
      "source": [
        "words = [\"apple\", \"banana\", \"cherry\", \"date\", \"kiwi\", \"mango\"]\n",
        "new_word = [word for word in words if len(word) >= 5]\n",
        "print(new_word)"
      ],
      "metadata": {
        "colab": {
          "base_uri": "https://localhost:8080/"
        },
        "id": "R3lcRI3HwECu",
        "outputId": "adb95327-8ca0-4bda-b359-25a7b3d805f4"
      },
      "execution_count": null,
      "outputs": [
        {
          "output_type": "stream",
          "name": "stdout",
          "text": [
            "['apple', 'banana', 'cherry', 'mango']\n"
          ]
        }
      ]
    },
    {
      "cell_type": "code",
      "source": [
        "nums = [10, 21, 32, 43, 54, 65]\n",
        "string_list = ['even' if num % 2 == 0 else 'odd' for num in nums ]\n",
        "print(string_list)"
      ],
      "metadata": {
        "colab": {
          "base_uri": "https://localhost:8080/"
        },
        "id": "PmNB7M-wFwYb",
        "outputId": "bb623512-adf8-4e63-f9bb-b537909fa581"
      },
      "execution_count": null,
      "outputs": [
        {
          "output_type": "stream",
          "name": "stdout",
          "text": [
            "['even', 'odd', 'even', 'odd', 'even', 'odd']\n"
          ]
        }
      ]
    },
    {
      "cell_type": "markdown",
      "source": [
        "Given the names and grades for each student in a class of N students, store them in a nested list and print the name(s) of any student(s) having the second lowest grade.\n",
        "Note: If there are multiple students with the second lowest grade, order their names alphabetically and print each name on a new line.\n"
      ],
      "metadata": {
        "id": "X4HS5QMQkLAZ"
      }
    },
    {
      "cell_type": "code",
      "source": [
        "students = []\n",
        "\n",
        "for _ in range(int(input())):\n",
        "    name = input()\n",
        "    score = float(input())\n",
        "    students.append([name, score])\n",
        "\n",
        "# Extract unique scores and sort them\n",
        "unique_scores = sorted(set(score for name, score in students))\n",
        "\n",
        "# Second lowest score is the second item in sorted unique scores\n",
        "second_lowest = unique_scores[1]\n",
        "\n",
        "# Get list of students with the second lowest score\n",
        "second_lowest_students = [name for name, score in students if score == second_lowest]\n",
        "\n",
        "# Print names in alphabetical order\n",
        "for name in sorted(second_lowest_students):\n",
        "    print(name)\n"
      ],
      "metadata": {
        "id": "6BGOcZhZcgsb"
      },
      "execution_count": null,
      "outputs": []
    },
    {
      "cell_type": "code",
      "source": [
        "student = {\n",
        "    \"name\": \"John\",\n",
        "    \"age\": 25,\n",
        "    \"city\": \"New York\"\n",
        "}\n",
        "print(student[\"name\"])\n",
        "student[\"Country\"]= \"USA\"\n",
        "print(student)\n",
        "\n"
      ],
      "metadata": {
        "colab": {
          "base_uri": "https://localhost:8080/"
        },
        "id": "GwzRkGM6FbyM",
        "outputId": "8b65bb7b-de6d-42ad-9bcb-77dc4ae8a546"
      },
      "execution_count": null,
      "outputs": [
        {
          "output_type": "stream",
          "name": "stdout",
          "text": [
            "John\n",
            "{'name': 'John', 'age': 25, 'city': 'New York', 'Country': 'USA'}\n"
          ]
        }
      ]
    },
    {
      "cell_type": "code",
      "source": [
        "fruits = {\n",
        "    \"apple\": 100,\n",
        "    \"banana\": 40,\n",
        "    \"mango\": 80,\n",
        "    \"kiwi\": 120\n",
        "}\n",
        "for fruit in fruits:\n",
        "  print(fruit)\n",
        "for fruit in fruits:\n",
        "  print(fruits[fruit])\n",
        "\n"
      ],
      "metadata": {
        "colab": {
          "base_uri": "https://localhost:8080/"
        },
        "id": "ZEzB5MMZGi0h",
        "outputId": "7338c59b-3e8a-4dd8-c3ba-358ea1cc7b41"
      },
      "execution_count": null,
      "outputs": [
        {
          "output_type": "stream",
          "name": "stdout",
          "text": [
            "apple\n",
            "banana\n",
            "mango\n",
            "kiwi\n",
            "100\n",
            "40\n",
            "80\n",
            "120\n"
          ]
        }
      ]
    },
    {
      "cell_type": "markdown",
      "source": [
        "The provided code stub will read in a dictionary containing key/value pairs of name:[marks] for a list of students. Print the average of the marks array for the student name provided, showing 2 places after the decimal."
      ],
      "metadata": {
        "id": "3LxorvdPlHSP"
      }
    },
    {
      "cell_type": "code",
      "source": [
        "n = int(input())\n",
        "\n",
        "student_marks = {}\n",
        "\n",
        "for _ in range(n):\n",
        "    name, *line = input().split()\n",
        "    scores = list(map(float, line))\n",
        "    student_marks[name] = scores\n",
        "\n",
        "query_name = input()\n",
        "\n",
        "scores = student_marks[query_name]\n",
        "average = sum(scores) / len(scores)\n",
        "\n",
        "print(f\"{average:.2f}\")\n"
      ],
      "metadata": {
        "id": "m0RhhcnQlF5c"
      },
      "execution_count": null,
      "outputs": []
    },
    {
      "cell_type": "code",
      "source": [
        "fruits = {\n",
        "    \"apple\": 100,\n",
        "    \"banana\": 40,\n",
        "    \"mango\": 80,\n",
        "    \"kiwi\": 120\n",
        "}\n",
        "\n",
        "names = list(fruits.keys())\n",
        "price = sorted(list(fruits.values()))\n",
        "\n",
        "highest_price = price[3]\n",
        "highest_fruit = names[price.index(highest_price)]\n",
        "print(highest_fruit)\n",
        "\n",
        "\n",
        "\n",
        "\n"
      ],
      "metadata": {
        "id": "l2Wt6k0ptFnr"
      },
      "execution_count": null,
      "outputs": []
    },
    {
      "cell_type": "code",
      "source": [
        "inventory = {\n",
        "    \"laptop\": 12,\n",
        "    \"mouse\": 50,\n",
        "    \"keyboard\": 34,\n",
        "    \"monitor\": 20,\n",
        "    \"printer\": 5\n",
        "}\n",
        "item_list = list(inventory.keys())\n",
        "item_quantity = list(inventory.values())\n",
        "#Dictionary comprehension to filter items\n",
        "\n",
        "low_stock = {item: qty for item , qty in inventory.items() if qty < 20}\n",
        "print(low_stock)\n",
        "# List comprehension to get only item names\n",
        "\n",
        "low_items = [item  for item , qty in inventory.items() if qty < 20]\n",
        "print(low_items)\n",
        "# List comprehension to get only item,qty both\n",
        "\n",
        "low_items_qty = [[item,qty ] for item , qty in inventory.items() if qty < 20]\n",
        "print(low_items_qty)"
      ],
      "metadata": {
        "colab": {
          "base_uri": "https://localhost:8080/"
        },
        "id": "cUif6JpoY7hC",
        "outputId": "5ba013b5-43b0-4634-f75b-6140011cf0d3"
      },
      "execution_count": null,
      "outputs": [
        {
          "output_type": "stream",
          "name": "stdout",
          "text": [
            "{'laptop': 12, 'printer': 5}\n",
            "['laptop', 'printer']\n",
            "[['laptop', 12], ['printer', 5]]\n"
          ]
        }
      ]
    },
    {
      "cell_type": "code",
      "source": [
        "marks = {\n",
        "    \"Alice\": {\"Math\": 90, \"Science\": 85, \"English\": 88},\n",
        "    \"Bob\": {\"Math\": 75, \"Science\": 80, \"English\": 70},\n",
        "    \"Charlie\": {\"Math\": 95, \"Science\": 92, \"English\": 89}\n",
        "}\n",
        "#average for 1 student\n",
        "student_score = {\"Math\": 90, \"Science\": 85, \"English\": 88}\n",
        "avg = sum(student_score.values())/ len(student_score.keys())\n",
        "print(avg)\n",
        "\n",
        "averages = {}\n",
        "for students,subjects in marks.items():\n",
        "  avg = sum(subjects.values())/ len(subjects.keys())\n",
        "  averages[students] = avg\n",
        "print(averages)\n"
      ],
      "metadata": {
        "colab": {
          "base_uri": "https://localhost:8080/"
        },
        "id": "_wn3S7-HfAJj",
        "outputId": "5ad23aed-ec38-4b24-f3ac-91fcf3bf5c32"
      },
      "execution_count": null,
      "outputs": [
        {
          "output_type": "stream",
          "name": "stdout",
          "text": [
            "87.66666666666667\n",
            "{'Alice': 87.66666666666667, 'Bob': 75.0, 'Charlie': 92.0}\n"
          ]
        }
      ]
    },
    {
      "cell_type": "code",
      "source": [
        "population = {\n",
        "    \"USA\": 331002651,\n",
        "    \"India\": 1380004385,\n",
        "    \"China\": 1439323776,\n",
        "    \"Brazil\": 212559417,\n",
        "    \"Pakistan\": 220892340\n",
        "}\n",
        "ppl = list(population.values())\n",
        "country = list(population.keys())\n",
        "max_ppl = max(ppl)\n",
        "min_ppl = min(ppl)\n",
        "\n",
        "contry_max = {country for country,ppl in population.items() if ppl == max_ppl}\n",
        "contry_min = {country:ppl for country,ppl in population.items() if ppl == min_ppl}\n",
        "print(contry_max)\n",
        "print(contry_min)\n",
        "\n",
        "new_population = {country:ppl for country,ppl in population.items() if ppl > 50000000}"
      ],
      "metadata": {
        "colab": {
          "base_uri": "https://localhost:8080/"
        },
        "id": "yiNulqhfOPTJ",
        "outputId": "00aa41af-0782-4afb-deb3-0e72ea57d7c3"
      },
      "execution_count": null,
      "outputs": [
        {
          "output_type": "stream",
          "name": "stdout",
          "text": [
            "{'China'}\n",
            "{'Brazil': 212559417}\n"
          ]
        }
      ]
    },
    {
      "cell_type": "markdown",
      "source": [],
      "metadata": {
        "id": "aIbeJ0eglFbc"
      }
    }
  ]
}