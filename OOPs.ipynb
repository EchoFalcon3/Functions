{
  "nbformat": 4,
  "nbformat_minor": 0,
  "metadata": {
    "colab": {
      "provenance": []
    },
    "kernelspec": {
      "name": "python3",
      "display_name": "Python 3"
    },
    "language_info": {
      "name": "python"
    }
  },
  "cells": [
    {
      "cell_type": "markdown",
      "source": [
        "Theoritical Questions:"
      ],
      "metadata": {
        "id": "aW8BugkDwDve"
      }
    },
    {
      "cell_type": "markdown",
      "source": [
        "1.What is Object-Oriented Programming (OOP)?\n",
        "\n",
        "--> Object-Oriented Programming (OOP) is a programming paradigm that uses objects and classes to organize code, focusing on encapsulation, abstraction, inheritance, and polymorphism."
      ],
      "metadata": {
        "id": "f5Bv9MCdxsLr"
      }
    },
    {
      "cell_type": "markdown",
      "source": [
        "2.What is a class in OOP?\n",
        "\n",
        "--> A class in OOP is a blueprint or template for creating objects. It defines the attributes (data) and methods (behavior) that the objects will have."
      ],
      "metadata": {
        "id": "TejukMnIyDK2"
      }
    },
    {
      "cell_type": "markdown",
      "source": [
        "3.What is an object in OOP?\n",
        "\n",
        "--> An object in OOP is an instance of a class that contains real data and can perform actions defined by its class."
      ],
      "metadata": {
        "id": "kRWbNdw8yTgh"
      }
    },
    {
      "cell_type": "markdown",
      "source": [
        "4.What is the difference between abstraction and encapsulation?\n",
        "\n",
        "--> Abstraction focuses on hiding implementation details and showing only essential features.\n",
        "Encapsulation is about bundling data and methods together and restricting direct access to the data."
      ],
      "metadata": {
        "id": "Ry2ixwjOyeqS"
      }
    },
    {
      "cell_type": "markdown",
      "source": [
        "5.What are dunder methods in Python?\n",
        "\n",
        "--> Dunder methods (short for double underscore methods) in Python are special predefined methods that start and end with double underscores (e.g., __init__, __str__, __len__).\n",
        "\n",
        "They are used to define how objects of a class should behave in built-in operations (like initialization, printing, comparison, addition, etc.)."
      ],
      "metadata": {
        "id": "-vdspd3Sys1J"
      }
    },
    {
      "cell_type": "markdown",
      "source": [
        "6.Explain the concept of inheritance in OOP.\n",
        "\n",
        "--> Inheritance in OOP is the concept where a class (child/derived class) can acquire properties and behaviors from another class (parent/base class).\n",
        "\n",
        "It promotes code reusability and allows extending or modifying existing functionality."
      ],
      "metadata": {
        "id": "6fJFTcrAy9nd"
      }
    },
    {
      "cell_type": "markdown",
      "source": [
        "7.What is polymorphism in OOP?\n",
        "\n",
        "--> Polymorphism in OOP means the same function or method name can work in different ways depending on the object or context."
      ],
      "metadata": {
        "id": "AOsVPpdzzLsz"
      }
    },
    {
      "cell_type": "markdown",
      "source": [
        "8. How is encapsulation achieved in Python?\n",
        "\n",
        "--> Encapsulation in Python is achieved by restricting direct access to variables and providing methods to access or modify them.\n",
        "Private members → prefix with _ (protected) or __ (private)."
      ],
      "metadata": {
        "id": "5GCtEEc0zVRi"
      }
    },
    {
      "cell_type": "markdown",
      "source": [
        "9. What is a constructor in Python?\n",
        "\n",
        "--> A constructor in Python is a special method __init__ that is automatically called when an object of a class is created. It is used to initialize the object’s attributes."
      ],
      "metadata": {
        "id": "xPcFxooe125U"
      }
    },
    {
      "cell_type": "markdown",
      "source": [
        "10.What are class and static methods in Python?\n",
        "\n",
        "--> Class Method: Defined with @classmethod, it takes cls as the first parameter and can access/modify class-level data.\n",
        "\n",
        "Static Method: Defined with @staticmethod, it doesn’t take self or cls and behaves like a regular function inside a class, without accessing class or instance data."
      ],
      "metadata": {
        "id": "PPGZVWuO1_o-"
      }
    },
    {
      "cell_type": "markdown",
      "source": [
        "11.What is method overloading in Python?\n",
        "\n",
        "--> In Python, method overloading means having multiple methods with the same name but different parameters."
      ],
      "metadata": {
        "id": "8y9T8BIk2Mdv"
      }
    },
    {
      "cell_type": "markdown",
      "source": [
        "12.What is method overriding in OOP?\n",
        "\n",
        "--> Method overriding in OOP occurs when a child class provides a new implementation of a method that already exists in its parent class.\n",
        "\n",
        " The child class method replaces the parent class method when called on the child object."
      ],
      "metadata": {
        "id": "NJTAN4fb2a4v"
      }
    },
    {
      "cell_type": "markdown",
      "source": [
        "13.What is a property decorator in Python?\n",
        "\n",
        "--> A property decorator (@property) in Python is used to define getter methods that let you access a method like an attribute.\n",
        "\n",
        "It is mainly used for encapsulation, to control access to private variables without calling explicit getter methods."
      ],
      "metadata": {
        "id": "phHQIsER2nlK"
      }
    },
    {
      "cell_type": "markdown",
      "source": [
        "14.Why is polymorphism important in OOP?\n",
        "\n",
        "--> Polymorphism is important in object-oriented programming (OOP) because it enables flexibility, code reusability, and ease of maintenance by allowing objects of different classes to respond uniquely to the same method or interface call."
      ],
      "metadata": {
        "id": "xA8fc-fH3A_0"
      }
    },
    {
      "cell_type": "markdown",
      "source": [
        "15.What is an abstract class in Python?\n",
        "\n",
        "--> An abstract class in Python is a blueprint for other classes and cannot be instantiated on its own—it is meant to define a common interface and enforce certain methods that must be implemented by any subclass."
      ],
      "metadata": {
        "id": "Iwezjt4Q3XwR"
      }
    },
    {
      "cell_type": "markdown",
      "source": [
        "16.What are the advantages of OOP?\n",
        "\n",
        "--> Object-oriented programming (OOP) offers several advantages that make it a preferred paradigm for building robust and maintainable software.\n",
        "Modularity,Reusability,Encapsulation and Data Security,Flexibility and Scalability,Code Maintenance and Debugging and Real-World Modeling are its key features.\n"
      ],
      "metadata": {
        "id": "tX5Np2hi3_D9"
      }
    },
    {
      "cell_type": "markdown",
      "source": [
        "17.What is the difference between a class variable and an instance variable?\n",
        "\n",
        "--> A class variable in Python is shared among all instances of a class, whereas an instance variable is unique to each object created from that class."
      ],
      "metadata": {
        "id": "Ie91E6Z44hIk"
      }
    },
    {
      "cell_type": "markdown",
      "source": [
        "18.What is multiple inheritance in Python?\n",
        "\n",
        "--> Multiple inheritance in Python refers to a feature where a class can inherit attributes and methods from more than one parent (base) class."
      ],
      "metadata": {
        "id": "dkvnp9X07d-4"
      }
    },
    {
      "cell_type": "markdown",
      "source": [
        "19.Explain the purpose of ‘’\\_\\_str\\_\\_’ and ‘\\_\\_repr\\_\\_’ ‘ methods in Python.\n",
        "\n",
        "--> The __str__ and __repr__ methods in Python are special (\"dunder\") methods that provide string representations of an object, but they serve different purposes and audiences.\n",
        "\n",
        "Purpose and Differences\n",
        "__repr__:\n",
        "The __repr__ method returns an official string representation of the object aimed primarily at developers. It should be unambiguous and ideally produce a string that could be used with eval() to recreate the object. When you type an object name in the Python interactive shell, its output is from __repr__. This method is used as a fallback by __str__ if the latter is not defined.\n",
        "\n",
        "__str__:\n",
        "The __str__ method returns a readable, informal string representation of the object meant for end users. It is called by the built-in str() function and by print(). It should present a user-friendly description but doesn't need to be unambiguous or evaluable."
      ],
      "metadata": {
        "id": "VnOMEVOm7-y6"
      }
    },
    {
      "cell_type": "markdown",
      "source": [
        "20.What is the significance of the ‘super()’ function in Python?\n",
        "\n",
        "-->The super() function in Python is significant because it allows a subclass to call methods (including the constructor __init__) of its parent or superclass without explicitly naming the parent class. This enables clean, maintainable code, especially when working with inheritance."
      ],
      "metadata": {
        "id": "aGv_1L7o8h8B"
      }
    },
    {
      "cell_type": "markdown",
      "source": [
        "21.What is the significance of the \\_\\_del\\_\\_ method in Python?\n",
        "\n",
        "--> The __del__ method in Python is a special method called a destructor, which is invoked when an object is about to be destroyed or garbage collected. Its main significance is to allow cleanup actions before an object is removed from memory, such as releasing external resources like files or network connections."
      ],
      "metadata": {
        "id": "a8PJHtsE8w8T"
      }
    },
    {
      "cell_type": "markdown",
      "source": [
        "22.What is the difference between @staticmethod and @classmethod in Python?\n",
        "\n",
        "--> The key difference between @staticmethod and @classmethod in Python lies in their relationship to the class and instance, and the arguments they receive.\n",
        "\n",
        "@staticmethod\n",
        "Does not receive an implicit first argument (neither self nor cls).\n",
        "\n",
        "Behaves like a regular function but resides in a class's namespace for logical grouping.\n",
        "\n",
        "Cannot access or modify the class or instance state (no access to class or instance variables).\n",
        "\n",
        "Typically used for utility functions related to the class but independent of class or instance attributes.\n",
        "\n",
        "@classmethod\n",
        "Receives the class itself (cls) as the first implicit argument.\n",
        "\n",
        "Can access and modify class state, including class variables.\n",
        "\n",
        "Often used for alternative constructors or methods that affect the class as a whole."
      ],
      "metadata": {
        "id": "TFAU2atH86E3"
      }
    },
    {
      "cell_type": "markdown",
      "source": [
        "23.How does polymorphism work in Python with inheritance?\n",
        "\n",
        "--> Polymorphism in Python with inheritance allows objects of different subclasses to be treated as instances of a common parent class while each subclass can define its own unique behavior for shared methods. This enables the same method to behave differently based on the object's actual subclass type."
      ],
      "metadata": {
        "id": "Fif1tDVK9RU_"
      }
    },
    {
      "cell_type": "markdown",
      "source": [
        "24.What is method chaining in Python OOP?\n",
        "\n",
        "--> Method chaining in Python OOP is a programming technique where multiple method calls are chained together in a single expression by having each method return the object itself (self). This allows calling subsequent methods on the same object consecutively, leading to concise and readable code."
      ],
      "metadata": {
        "id": "62Gr9JXx_f7g"
      }
    },
    {
      "cell_type": "markdown",
      "source": [
        "25.What is the purpose of the __call__ method in Python?\n",
        "\n",
        "--> The __call__ method in Python is a special dunder (double underscore) method that allows an instance of a class to be called like a regular function. When the __call__ method is defined in a class, you can use the object itself as if it were a function, and Python will automatically invoke the __call__ method."
      ],
      "metadata": {
        "id": "7A9f8yNA_59G"
      }
    },
    {
      "cell_type": "markdown",
      "source": [
        "Practical Questions:"
      ],
      "metadata": {
        "id": "ZbFKnFF-AdbO"
      }
    },
    {
      "cell_type": "markdown",
      "source": [
        "1. Create a parent class Animal with a method speak() that prints a generic message. Create a child class Dog\n",
        "that overrides the speak() method to print \"Bark!\"."
      ],
      "metadata": {
        "id": "Gh9bnR1N228p"
      }
    },
    {
      "cell_type": "code",
      "source": [
        "class Animal:\n",
        "  def speak(self):\n",
        "    print(\"This animal makes sound\")\n",
        "\n",
        "class Dog(Animal):\n",
        "  def speak(self):\n",
        "    print(\"Bark!\")\n",
        "\n",
        "a = Animal()\n",
        "b = Dog()\n",
        "a.speak()\n",
        "b.speak()\n"
      ],
      "metadata": {
        "colab": {
          "base_uri": "https://localhost:8080/"
        },
        "id": "yl7KagMUO-e9",
        "outputId": "6356508b-ad7d-48c3-fb47-c65ed1cde7f6"
      },
      "execution_count": null,
      "outputs": [
        {
          "output_type": "stream",
          "name": "stdout",
          "text": [
            "This animal makes sound\n",
            "Bark!\n"
          ]
        }
      ]
    },
    {
      "cell_type": "markdown",
      "source": [
        "2. Write a program to create an abstract class Shape with a method area(). Derive classes Circle and Rectangle\n",
        "from it and implement the area() method in both."
      ],
      "metadata": {
        "id": "SOp1ypWpR8p7"
      }
    },
    {
      "cell_type": "code",
      "source": [
        "from abc import ABC , abstractmethod\n",
        "\n",
        "class Shape(ABC):\n",
        "  @abstractmethod\n",
        "  def area(self):\n",
        "    pass\n",
        "\n",
        "import math\n",
        "\n",
        "class Circle(Shape):\n",
        "  def __init__(self,radius):\n",
        "    self.radius = radius\n",
        "\n",
        "  def area(self):\n",
        "    return math.pi * self.radius * self.radius\n",
        "\n",
        "class Rectangle(Shape):\n",
        "    def __init__(self, length, width):\n",
        "        self.length = length\n",
        "        self.width = width\n",
        "\n",
        "    def area(self):\n",
        "        return self.length * self.width\n",
        "\n",
        "c = Circle(5)\n",
        "r = Rectangle(2,3)\n",
        "\n",
        "print(\"Circle area:\", c.area())\n",
        "print(\"Rectangle area:\", r.area())\n"
      ],
      "metadata": {
        "colab": {
          "base_uri": "https://localhost:8080/"
        },
        "id": "UGgpJ2TZSFrv",
        "outputId": "88799b55-d3dd-4d2d-d854-7cfa706f722a"
      },
      "execution_count": null,
      "outputs": [
        {
          "output_type": "stream",
          "name": "stdout",
          "text": [
            "Circle area: 78.53981633974483\n",
            "Rectangle area: 6\n"
          ]
        }
      ]
    },
    {
      "cell_type": "markdown",
      "source": [
        "3. Implement a multi-level inheritance scenario where a class Vehicle has an attribute type. Derive a class Car and further derive a class ElectricCar that adds a battery attribute."
      ],
      "metadata": {
        "id": "lJBVwfEeWX1k"
      }
    },
    {
      "cell_type": "code",
      "source": [
        "class Vehicle():\n",
        "  def __init__(self,type):\n",
        "    self.type = type\n",
        "\n",
        "class Car(Vehicle):\n",
        "  def __init__(self, type, brand):\n",
        "    super().__init__(type)\n",
        "    self.brand = brand\n",
        "\n",
        "class ElectricCar(Car):\n",
        "  def __init__(self, type, brand, battery):\n",
        "    super().__init__(type, brand)\n",
        "    self.battery = battery\n",
        "\n",
        "ec = ElectricCar(\"4 wheeler\",\"Tata\",\"80 KWH\")\n",
        "\n",
        "print(\"Type:\" , ec.type)\n",
        "print(\"Brand:\" , ec.brand)\n",
        "print(\"Battery:\", ec.battery)"
      ],
      "metadata": {
        "colab": {
          "base_uri": "https://localhost:8080/"
        },
        "id": "jdeWxSRYaUto",
        "outputId": "3c7ff220-b5da-49bf-b9f9-d49bdc2922b4"
      },
      "execution_count": 11,
      "outputs": [
        {
          "output_type": "stream",
          "name": "stdout",
          "text": [
            "Type: 4 wheeler\n",
            "Brand: Tata\n",
            "Battery: 80 KWH\n"
          ]
        }
      ]
    },
    {
      "cell_type": "markdown",
      "source": [
        "4. Demonstrate polymorphism by creating a base class Bird with a method fly(). Create two derived classes Sparrow and Penguin that override the fly() method."
      ],
      "metadata": {
        "id": "5I8R77xqhQ0a"
      }
    },
    {
      "cell_type": "code",
      "source": [
        "class Bird:\n",
        "    def fly(self):\n",
        "        print(\"Birds can usually fly.\")\n",
        "class Sparrow(Bird):\n",
        "    def fly(self):\n",
        "        print(\"Sparrow can fly high!\")\n",
        "\n",
        "class Penguin(Bird):\n",
        "    def fly(self):\n",
        "        print(\"Penguins cannot fly, they swim instead.\")\n",
        "\n",
        "b1 = Sparrow()\n",
        "b2 = Penguin()\n",
        "\n",
        "for bird in (b1, b2):\n",
        "    bird.fly()\n"
      ],
      "metadata": {
        "colab": {
          "base_uri": "https://localhost:8080/"
        },
        "id": "gd4FJ_tCxpcx",
        "outputId": "6d4db2d6-1e8b-49ff-ba30-91db42534994"
      },
      "execution_count": null,
      "outputs": [
        {
          "output_type": "stream",
          "name": "stdout",
          "text": [
            "Sparrow can fly high!\n",
            "Penguins cannot fly, they swim instead.\n"
          ]
        }
      ]
    },
    {
      "cell_type": "markdown",
      "source": [
        "5.Write a program to demonstrate encapsulation by creating a class BankAccount with private attributes balance and methods to deposit, withdraw, and check balance."
      ],
      "metadata": {
        "id": "8YWSYFiDGcLv"
      }
    },
    {
      "cell_type": "code",
      "source": [
        "class BankAccount:\n",
        "  def __init__(self,balance=0):\n",
        "    self.__balance = balance\n",
        "\n",
        "  def deposit(self,amount):\n",
        "    if amount > 0:\n",
        "      self.__balance += amount\n",
        "      print(f\" Deposited : {amount}\")\n",
        "    else:\n",
        "        print(\"Deposit amount my ne more than 0.\")\n",
        "\n",
        "  def withdraw(self,amount):\n",
        "    if 0 < amount <= self.__balance:\n",
        "      self.__balance -= amount\n",
        "      print(f\"Withdrew :{amount}\")\n",
        "    else:\n",
        "            print(\"Insufficient balance or invalid amount.\")\n",
        "\n",
        "  def Get_balance(self):\n",
        "    return self.__balance\n",
        "\n",
        "acc_bal = BankAccount(500)\n",
        "acc_bal.deposit(100)\n",
        "acc_bal.withdraw(200)\n",
        "\n",
        "print(\"Account Balance is:\" , acc_bal.Get_balance())\n",
        "\n"
      ],
      "metadata": {
        "colab": {
          "base_uri": "https://localhost:8080/"
        },
        "id": "zFc-glnsGejG",
        "outputId": "a4d617d3-ee71-4bb9-842b-a73dd37082a5"
      },
      "execution_count": 20,
      "outputs": [
        {
          "output_type": "stream",
          "name": "stdout",
          "text": [
            " Deposited : 100\n",
            "Withdrew :200\n",
            "Account Balance is: 400\n"
          ]
        }
      ]
    },
    {
      "cell_type": "markdown",
      "source": [
        "6. Demonstrate runtime polymorphism using a method play() in a base class Instrument. Derive classes Guitar and Piano that implement their own version of play()."
      ],
      "metadata": {
        "id": "FCsq0ldMY6gp"
      }
    },
    {
      "cell_type": "code",
      "source": [
        "class Instrument():\n",
        "  def play(self):\n",
        "    print(\"Instrument is playing...\")\n",
        "\n",
        "class Guitar(Instrument):\n",
        "  def play(self):\n",
        "    print(\"Strumming the guitar \")\n",
        "\n",
        "class Piano(Instrument):\n",
        "  def play(self):\n",
        "    print(\"Playing the piano \")\n",
        "\n",
        "g = Guitar()\n",
        "p = Piano()\n",
        "\n",
        "for instrument in (g,p):\n",
        "  instrument.play()\n"
      ],
      "metadata": {
        "colab": {
          "base_uri": "https://localhost:8080/"
        },
        "id": "j2Jwu7qxZAiD",
        "outputId": "c6f8d709-0de9-4be5-8cb7-3231c56d22b3"
      },
      "execution_count": 16,
      "outputs": [
        {
          "output_type": "stream",
          "name": "stdout",
          "text": [
            "Strumming the guitar \n",
            "Playing the piano \n"
          ]
        }
      ]
    },
    {
      "cell_type": "markdown",
      "source": [
        "7. Create a class MathOperations with a class method add_numbers() to add two numbers and a static method subtract_numbers() to subtract two numbers."
      ],
      "metadata": {
        "id": "UwAAXrg_czqA"
      }
    },
    {
      "cell_type": "code",
      "source": [
        "class MathOperations():\n",
        "\n",
        "      @classmethod\n",
        "      def add_numbers(cls, a, b):\n",
        "        return a + b\n",
        "\n",
        "      @staticmethod\n",
        "      def subtract_numbers(a, b):\n",
        "        return a - b\n",
        "\n",
        "print(\"Addition:\", MathOperations.add_numbers(10, 5))\n",
        "print(\"Subtraction:\", MathOperations.subtract_numbers(10, 5))\n",
        "\n",
        "\n",
        "\n",
        "\n",
        "\n",
        "\n"
      ],
      "metadata": {
        "colab": {
          "base_uri": "https://localhost:8080/"
        },
        "id": "qG1v3v6ec2XH",
        "outputId": "a2d90a47-9dcb-4b4d-9333-fdbd8307f139"
      },
      "execution_count": 19,
      "outputs": [
        {
          "output_type": "stream",
          "name": "stdout",
          "text": [
            "Addition: 15\n",
            "Subtraction: 5\n"
          ]
        }
      ]
    },
    {
      "cell_type": "markdown",
      "source": [
        "8. Implement a class Person with a class method to count the total number of persons created."
      ],
      "metadata": {
        "id": "F0-P4AxAeAzt"
      }
    },
    {
      "cell_type": "code",
      "source": [
        "class Person:\n",
        "    count = 0\n",
        "\n",
        "    def __init__(self, name):\n",
        "        self.name = name\n",
        "        Person.count += 1\n",
        "\n",
        "    @classmethod\n",
        "    def total_persons(cls):\n",
        "        return cls.count\n",
        "\n",
        "p1 = Person(\"Alice\")\n",
        "p2 = Person(\"Bob\")\n",
        "p3 = Person(\"Charlie\")\n",
        "\n",
        "print(\"Total persons created:\", Person.total_persons())\n"
      ],
      "metadata": {
        "colab": {
          "base_uri": "https://localhost:8080/"
        },
        "id": "lN-p6hi-hrxh",
        "outputId": "4132bab1-abe9-4ee0-df6f-5cde798fda32"
      },
      "execution_count": 26,
      "outputs": [
        {
          "output_type": "stream",
          "name": "stdout",
          "text": [
            "Total persons created: 3\n"
          ]
        }
      ]
    },
    {
      "cell_type": "markdown",
      "source": [
        "9.Write a class Fraction with attributes numerator and denominator. Override the str method to display the fraction as \"numerator/denominator\"."
      ],
      "metadata": {
        "id": "XiM5VYCdQWXx"
      }
    },
    {
      "cell_type": "code",
      "source": [
        "class Fraction:\n",
        "    def __init__(self, numerator, denominator):\n",
        "        self.numerator = numerator\n",
        "        self.denominator = denominator\n",
        "\n",
        "    def __str__(self):\n",
        "        return f\"{self.numerator}/{self.denominator}\"\n",
        "f = Fraction(3, 4)\n",
        "print(f)"
      ],
      "metadata": {
        "colab": {
          "base_uri": "https://localhost:8080/"
        },
        "id": "x2tROT8DQYLc",
        "outputId": "87d0e72a-aec3-45df-ba24-8369783b7ad9"
      },
      "execution_count": 1,
      "outputs": [
        {
          "output_type": "stream",
          "name": "stdout",
          "text": [
            "3/4\n"
          ]
        }
      ]
    },
    {
      "cell_type": "markdown",
      "source": [
        "10. Demonstrate operator overloading by creating a class Vector and overriding the add method to add two vectors."
      ],
      "metadata": {
        "id": "uGez0E35cyVp"
      }
    },
    {
      "cell_type": "code",
      "source": [
        "class Vector:\n",
        "    def __init__(self, x, y):\n",
        "        self.x = x\n",
        "        self.y = y\n",
        "\n",
        "    def __add__(self, other):\n",
        "        return Vector(self.x + other.x, self.y + other.y)\n",
        "\n",
        "    def __str__(self):\n",
        "        return f\"({self.x}, {self.y})\"\n",
        "v1 = Vector(2, 3)\n",
        "v2 = Vector(4, 5)\n",
        "\n",
        "v3 = v1 + v2\n",
        "\n",
        "print(\"v1 =\", v1)\n",
        "print(\"v2 =\", v2)\n",
        "print(\"v3 =\", v3)\n"
      ],
      "metadata": {
        "colab": {
          "base_uri": "https://localhost:8080/"
        },
        "id": "wS6mIU3Dc1Am",
        "outputId": "2f60982a-5893-49c3-c86b-d2fead868533"
      },
      "execution_count": 1,
      "outputs": [
        {
          "output_type": "stream",
          "name": "stdout",
          "text": [
            "v1 = (2, 3)\n",
            "v2 = (4, 5)\n",
            "v3 = (6, 8)\n"
          ]
        }
      ]
    },
    {
      "cell_type": "markdown",
      "source": [
        "11. Create a class Person with attributes name and age. Add a method greet() that prints \"Hello, my name is {name} and I am {age} years old.\""
      ],
      "metadata": {
        "id": "fZMtHdd7eEr6"
      }
    },
    {
      "cell_type": "code",
      "source": [
        "class Person:\n",
        "    def __init__(self, name, age):\n",
        "        self.name = name     # store name in the object\n",
        "        self.age = age       # store age in the object\n",
        "\n",
        "    def greet(self):\n",
        "        print(f\"Hello, my name is {self.name} and I am {self.age} years old.\")\n",
        "p1 = Person(\"Alice\", 25)\n",
        "p2 = Person(\"Bob\", 30)\n",
        "\n",
        "p1.greet()\n",
        "p2.greet()\n"
      ],
      "metadata": {
        "colab": {
          "base_uri": "https://localhost:8080/"
        },
        "id": "4migviJ4eFu2",
        "outputId": "14bf03c1-c3a1-4f37-ab35-9edf7db7152b"
      },
      "execution_count": 2,
      "outputs": [
        {
          "output_type": "stream",
          "name": "stdout",
          "text": [
            "Hello, my name is Alice and I am 25 years old.\n",
            "Hello, my name is Bob and I am 30 years old.\n"
          ]
        }
      ]
    },
    {
      "cell_type": "markdown",
      "source": [
        "12. Implement a class Student with attributes name and grades. Create a method average_grade() to compute the average of the grades."
      ],
      "metadata": {
        "id": "61GcqArbepbS"
      }
    },
    {
      "cell_type": "code",
      "source": [
        "class Student:\n",
        "    def __init__(self, name, grades):\n",
        "        self.name = name\n",
        "        self.grades = grades\n",
        "\n",
        "    def average_grade(self):\n",
        "        return sum(self.grades) / len(self.grades)\n",
        "s1 = Student(\"Alice\", [85, 90, 78])\n",
        "s2 = Student(\"Bob\", [70, 75, 80, 85])\n",
        "\n",
        "print(s1.name, \"Average:\", s1.average_grade())\n",
        "print(s2.name, \"Average:\", s2.average_grade())\n"
      ],
      "metadata": {
        "colab": {
          "base_uri": "https://localhost:8080/"
        },
        "id": "pW5BldV_erOc",
        "outputId": "c4775273-06a9-4a8d-f984-ced4e9191bf5"
      },
      "execution_count": 3,
      "outputs": [
        {
          "output_type": "stream",
          "name": "stdout",
          "text": [
            "Alice Average: 84.33333333333333\n",
            "Bob Average: 77.5\n"
          ]
        }
      ]
    },
    {
      "cell_type": "markdown",
      "source": [
        "13. Create a class Rectangle with methods set_dimensions() to set the dimensions and area() to calculate the area."
      ],
      "metadata": {
        "id": "H2CxOGMJhcyK"
      }
    },
    {
      "cell_type": "code",
      "source": [
        "class Rectangle:\n",
        "    def set_dimensions(self, length, width):\n",
        "        self.length = length\n",
        "        self.width = width\n",
        "\n",
        "    def area(self):\n",
        "        return self.length * self.width\n",
        "rect = Rectangle()\n",
        "rect.set_dimensions(5, 3)\n",
        "print(\"Area:\", rect.area())\n"
      ],
      "metadata": {
        "colab": {
          "base_uri": "https://localhost:8080/"
        },
        "id": "ocXCiBNPhj9T",
        "outputId": "3a6be1f0-863e-47be-acf6-5805d0a309f2"
      },
      "execution_count": 4,
      "outputs": [
        {
          "output_type": "stream",
          "name": "stdout",
          "text": [
            "Area: 15\n"
          ]
        }
      ]
    },
    {
      "cell_type": "markdown",
      "source": [
        "14. Create a class Employee with a method calculate_salary() that computes the salary based on hours worked and hourly rate. Create a derived class Manager that adds a bonus to the salary."
      ],
      "metadata": {
        "id": "GYRmEt8FPSd0"
      }
    },
    {
      "cell_type": "code",
      "source": [
        "class Employee:\n",
        "  def __init__(self, hours_worked, hourly_rate):\n",
        "        self.hours_worked = hours_worked\n",
        "        self.hourly_rate = hourly_rate\n",
        "\n",
        "  def calculate_salary(self):\n",
        "    return self.hours_worked * self.hourly_rate\n",
        "\n",
        "class Manager(Employee):\n",
        "  def __init__(self, hours_worked, hourly_rate, bonus):\n",
        "    super().__init__(hours_worked, hourly_rate)\n",
        "    self.bonus = bonus\n",
        "\n",
        "  def calculate_salary(self):\n",
        "    return super().calculate_salary() + self.bonus\n",
        "\n",
        "e = Employee(30,40)\n",
        "m = Manager(30,40,1000)\n",
        "\n",
        "print(\"Employee's salary is:\" ,e.calculate_salary())\n",
        "print(\"Manager's salary is:\", m.calculate_salary())\n"
      ],
      "metadata": {
        "colab": {
          "base_uri": "https://localhost:8080/"
        },
        "id": "n57XYwcIPTUQ",
        "outputId": "ff7764dc-0409-4784-a4f1-8ded1362cebf"
      },
      "execution_count": 7,
      "outputs": [
        {
          "output_type": "stream",
          "name": "stdout",
          "text": [
            "Employee's salary is: 1200\n",
            "Manager's salary is: 2200\n"
          ]
        }
      ]
    },
    {
      "cell_type": "markdown",
      "source": [
        "15. Create a class Product with attributes name, price, and quantity. Implement a method total_price() that calculates the total price of the product."
      ],
      "metadata": {
        "id": "A-zwZS9pTBl-"
      }
    },
    {
      "cell_type": "code",
      "source": [
        "class Product:\n",
        "    def __init__(self, name, price, quantity):\n",
        "        self.name = name\n",
        "        self.price = price\n",
        "        self.quantity = quantity\n",
        "\n",
        "    def total_price(self):\n",
        "        return self.price * self.quantity\n",
        "\n",
        "p1 = Product(\"Laptop\", 60000, 2)\n",
        "p2 = Product(\"Phone\", 30000, 3)\n",
        "\n",
        "print(f\"Total price of {p1.name}: {p1.total_price()}\")\n",
        "print(f\"Total price of {p2.name}: {p2.total_price()}\")\n"
      ],
      "metadata": {
        "colab": {
          "base_uri": "https://localhost:8080/"
        },
        "id": "WkOA6HBWTCjQ",
        "outputId": "69e5024d-ff09-4669-9d1d-f6b9ac16bbce"
      },
      "execution_count": 12,
      "outputs": [
        {
          "output_type": "stream",
          "name": "stdout",
          "text": [
            "Total price of Laptop: 120000\n",
            "Total price of Phone: 90000\n"
          ]
        }
      ]
    },
    {
      "cell_type": "markdown",
      "source": [
        "16. Create a class Animal with an abstract method sound(). Create two derived classes Cow and Sheep that implement the sound() method."
      ],
      "metadata": {
        "id": "SNsLzFkXW18c"
      }
    },
    {
      "cell_type": "code",
      "source": [
        "from abc import ABC, abstractmethod\n",
        "\n",
        "\n",
        "class Animal(ABC):\n",
        "    @abstractmethod\n",
        "    def sound(self):\n",
        "        pass\n",
        "\n",
        "class Cow(Animal):\n",
        "    def sound(self):\n",
        "        return \"Moo\"\n",
        "\n",
        "class Sheep(Animal):\n",
        "    def sound(self):\n",
        "        return \"Baa\"\n",
        "\n",
        "cow = Cow()\n",
        "sheep = Sheep()\n",
        "\n",
        "print(\"Cow says:\", cow.sound())\n",
        "print(\"Sheep says:\", sheep.sound())\n"
      ],
      "metadata": {
        "colab": {
          "base_uri": "https://localhost:8080/"
        },
        "id": "LTY1_-asW2gC",
        "outputId": "032bfc3f-739a-4c71-9112-c27fd28d19a4"
      },
      "execution_count": 14,
      "outputs": [
        {
          "output_type": "stream",
          "name": "stdout",
          "text": [
            "Cow says: Moo\n",
            "Sheep says: Baa\n"
          ]
        }
      ]
    },
    {
      "cell_type": "markdown",
      "source": [
        "17. Create a class Book with attributes title, author, and year_published. Add a method get_book_info() that returns a formatted string with the book's details.\n"
      ],
      "metadata": {
        "id": "Hzsn_YIKYQfR"
      }
    },
    {
      "cell_type": "code",
      "source": [
        "class Book:\n",
        "    def __init__(self, title, author, year_published):\n",
        "        self.title = title\n",
        "        self.author = author\n",
        "        self.year_published = year_published\n",
        "\n",
        "    def get_book_info(self):\n",
        "        return f\"'{self.title}' by {self.author}, published in {self.year_published}\"\n",
        "\n",
        "\n",
        "\n",
        "book1 = Book(\"The Great Gatsby\", \"F. Scott Fitzgerald\", 1925)\n",
        "book2 = Book(\"To Kill a Mockingbird\", \"Harper Lee\", 1960)\n",
        "\n",
        "print(book1.get_book_info())\n",
        "print(book2.get_book_info())\n"
      ],
      "metadata": {
        "colab": {
          "base_uri": "https://localhost:8080/"
        },
        "id": "jGIkfT9UYRFh",
        "outputId": "96393678-ed4c-4d7a-a2ef-ec7e405e61a7"
      },
      "execution_count": 13,
      "outputs": [
        {
          "output_type": "stream",
          "name": "stdout",
          "text": [
            "'The Great Gatsby' by F. Scott Fitzgerald, published in 1925\n",
            "'To Kill a Mockingbird' by Harper Lee, published in 1960\n"
          ]
        }
      ]
    },
    {
      "cell_type": "markdown",
      "source": [
        "18. Create a class House with attributes address and price. Create a derived class Mansion that adds an attribute number_of_rooms."
      ],
      "metadata": {
        "id": "V36VbYR6YvCi"
      }
    },
    {
      "cell_type": "code",
      "source": [
        "class House:\n",
        "    def __init__(self, address, price):\n",
        "        self.address = address\n",
        "        self.price = price\n",
        "\n",
        "    def get_info(self):\n",
        "        return f\"House located at {self.address}, priced at ${self.price}\"\n",
        "\n",
        "\n",
        "class Mansion(House):\n",
        "    def __init__(self, address, price, number_of_rooms):\n",
        "\n",
        "        super().__init__(address, price)\n",
        "        self.number_of_rooms = number_of_rooms\n",
        "\n",
        "    def get_info(self):\n",
        "        return f\"Mansion located at {self.address}, priced at ${self.price}, with {self.number_of_rooms} rooms\"\n",
        "\n",
        "\n",
        "house1 = House(\"123 Main Street\", 250000)\n",
        "mansion1 = Mansion(\"456 Luxury Ave\", 2000000, 12)\n",
        "\n",
        "print(house1.get_info())\n",
        "print(mansion1.get_info())\n"
      ],
      "metadata": {
        "colab": {
          "base_uri": "https://localhost:8080/"
        },
        "id": "uEMFdvmiYvva",
        "outputId": "c5c8f2c4-3baf-4d89-e58b-22d31318edcb"
      },
      "execution_count": 15,
      "outputs": [
        {
          "output_type": "stream",
          "name": "stdout",
          "text": [
            "House located at 123 Main Street, priced at $250000\n",
            "Mansion located at 456 Luxury Ave, priced at $2000000, with 12 rooms\n"
          ]
        }
      ]
    }
  ]
}