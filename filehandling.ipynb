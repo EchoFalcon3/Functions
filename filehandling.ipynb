{
  "nbformat": 4,
  "nbformat_minor": 0,
  "metadata": {
    "colab": {
      "provenance": [],
      "authorship_tag": "ABX9TyNH2Jb7vRxzMYtNfmk+oBfO",
      "include_colab_link": true
    },
    "kernelspec": {
      "name": "python3",
      "display_name": "Python 3"
    },
    "language_info": {
      "name": "python"
    }
  },
  "cells": [
    {
      "cell_type": "markdown",
      "metadata": {
        "id": "view-in-github",
        "colab_type": "text"
      },
      "source": [
        "<a href=\"https://colab.research.google.com/github/EchoFalcon3/Functions/blob/main/filehandling.ipynb\" target=\"_parent\"><img src=\"https://colab.research.google.com/assets/colab-badge.svg\" alt=\"Open In Colab\"/></a>"
      ]
    },
    {
      "cell_type": "markdown",
      "source": [
        "Theory Questions:"
      ],
      "metadata": {
        "id": "w8h6diJhJHk_"
      }
    },
    {
      "cell_type": "markdown",
      "source": [
        "1.1. What is the difference between interpreted and compiled languages?\n",
        "\n",
        "Compiled language:\n",
        "Code is fully translated into machine code by a compiler before execution, resulting in a fast, executable file.\n",
        "Examples: C, C++\n",
        "\n",
        "Interpreted language:\n",
        "Code is executed line-by-line by an interpreter at runtime, without producing an independent executable file, so it runs slower but is easier to test and debug.\n",
        "Examples: Python, JavaScript"
      ],
      "metadata": {
        "id": "kmVjU1ZqJKvc"
      }
    },
    {
      "cell_type": "markdown",
      "source": [
        "2.What is exception handling in Python?\n",
        "\n",
        "Exception handling in Python is a way to manage errors that occur during program execution, so the program doesn’t crash."
      ],
      "metadata": {
        "id": "uPtV_RnHKHcf"
      }
    },
    {
      "cell_type": "markdown",
      "source": [
        "3.What is the purpose of the finally block in exception handling?\n",
        "\n",
        "The finally block in Python exception handling is used to define a set of statements that always execute, regardless of whether an exception was raised or not."
      ],
      "metadata": {
        "id": "_kSmwxcNKVwJ"
      }
    },
    {
      "cell_type": "markdown",
      "source": [
        "4.What is logging in Python?\n",
        "\n",
        "Logging in Python is a way to record messages that describe events that happen when a program runs. It helps developers track the program flow, debug errors, and monitor performance by saving these messages to files or displaying them on the console.\n",
        "\n"
      ],
      "metadata": {
        "id": "K2-d5sbKMc3K"
      }
    },
    {
      "cell_type": "markdown",
      "source": [
        "5.What is the significance of the __del__ method in Python?\n",
        "\n",
        "The __del__ method in Python is a special method called a destructor. It is automatically invoked when an object is about to be destroyed (garbage collected), allowing you to define cleanup actions like releasing resources."
      ],
      "metadata": {
        "id": "h3PmWKacNe-_"
      }
    },
    {
      "cell_type": "markdown",
      "source": [
        "6.What is the difference between import and from ... import in Python?\n",
        "\n",
        "Imports the whole module and requires you to use the module name as a prefix to access its functions or classes.\n",
        "Example:\n",
        "python\n",
        "import math\n",
        "print(math.sqrt(9))\n",
        "\n",
        "from module import name:\n",
        "Imports a specific function, class, or variable from a module directly into your current namespace, so you can use it without the module prefix.\n",
        "Example:\n",
        "python\n",
        "from math import sqrt\n",
        "print(sqrt(9))"
      ],
      "metadata": {
        "id": "ZAEBEGvwN6-b"
      }
    },
    {
      "cell_type": "markdown",
      "source": [
        "7.How can you handle multiple exceptions in Python?\n",
        "\n",
        "You can handle multiple exceptions in Python by:\n",
        "\n",
        "1.Use except (ExcType1, ExcType2) to handle multiple exceptions with the same response.\n",
        "\n",
        "2.Use separate except blocks to handle exceptions differently."
      ],
      "metadata": {
        "id": "AzCf16N3Pt73"
      }
    },
    {
      "cell_type": "markdown",
      "source": [
        "8.What is the purpose of the with statement when handling files in Python?\n",
        "\n",
        "The purpose of the with statement in Python when handling files is to simplify resource management by automatically opening and closing the file, even if errors occur.\n",
        "\n",
        "It ensures the file is properly closed after its block of code is executed without needing explicit close() calls.\n",
        "\n",
        "This makes code cleaner, safer, and prevents resource leaks."
      ],
      "metadata": {
        "id": "XsOPG_fJQU7t"
      }
    },
    {
      "cell_type": "markdown",
      "source": [
        "9.What is the difference between multithreading and multiprocessing?\n",
        "\n",
        "Multithreading:\n",
        "Runs multiple threads within the same process, sharing memory space. Suitable for I/O-bound tasks. Achieves concurrency but limited parallelism due to Python’s GIL.\n",
        "\n",
        "Multiprocessing:\n",
        "Runs multiple processes, each with its own memory and Python interpreter. Suitable for CPU-bound tasks. Achieves true parallelism by using multiple CPU cores."
      ],
      "metadata": {
        "id": "Ob6iX92NUJ_U"
      }
    },
    {
      "cell_type": "markdown",
      "source": [
        "10.What are the advantages of using logging in a program?\n",
        "\n",
        "Advantages of using logging in a program:\n",
        "\n",
        "a.Helps track events and errors during program execution for easier debugging and troubleshooting.\n",
        "\n",
        "b.Provides detailed and categorized messages with different severity levels (e.g., INFO, ERROR).\n",
        "\n",
        "c.Records timestamps and context, useful for analyzing program behavior and performance over time.\n",
        "\n",
        "d.Saves logs to files or other outputs, preserving historical information for audits and reviews."
      ],
      "metadata": {
        "id": "Co1NvFS7UiAF"
      }
    },
    {
      "cell_type": "markdown",
      "source": [
        "11.What is memory management in Python?\n",
        "\n",
        "Memory management in Python is the automatic process of allocating and freeing memory to store objects and data while the program runs.\n",
        "\n",
        "Python uses reference counting to track how many references point to an object.\n",
        "\n",
        "When an object’s reference count drops to zero, Python deallocates that memory.\n",
        "\n",
        "Python also uses garbage collection to clean up cyclic references."
      ],
      "metadata": {
        "id": "P83prO8bU8nT"
      }
    },
    {
      "cell_type": "markdown",
      "source": [
        "12.What are the basic steps involved in exception handling in Python?\n",
        "\n",
        "Here are the basic steps involved in exception handling in Python:\n",
        "\n",
        "Try block: Write the code that may raise an exception inside the try block.\n",
        "\n",
        "Except block: Follow it with one or more except blocks to catch and handle specific exceptions."
      ],
      "metadata": {
        "id": "VYuYOjKAbC-B"
      }
    },
    {
      "cell_type": "markdown",
      "source": [
        "13.Why is memory management important in Python?\n",
        "\n",
        "Memory management is important in Python because:\n",
        "\n",
        "It automatically handles allocation and deallocation of memory, preventing memory leaks and making programs efficient.\n",
        "\n",
        "Proper memory management ensures optimal use of system resources, improving performance and avoiding crashes.\n",
        "\n",
        "It simplifies programming by abstracting low-level memory handling from developers."
      ],
      "metadata": {
        "id": "pQs5DatBiFpJ"
      }
    },
    {
      "cell_type": "markdown",
      "source": [
        "14.What is the role of try and except in exception handling?\n",
        "\n",
        "The role of try and except in exception handling is:\n",
        "\n",
        "try block: Contains code that may raise an exception. It tests the code for errors during execution.\n",
        "\n",
        "except block: Catches and handles the exceptions raised in the try block, preventing the program from crashing."
      ],
      "metadata": {
        "id": "oE61tyEDiSKo"
      }
    },
    {
      "cell_type": "markdown",
      "source": [
        "15.How does Python's garbage collection system work?\n",
        "\n",
        "Python’s garbage collection system works by automatically managing memory to free objects that are no longer in use.\n",
        "\n",
        "It primarily uses reference counting: each object tracks how many references point to it. When the count drops to zero, the object is immediately deleted.\n",
        "\n",
        "To handle reference cycles (objects referencing each other and preventing zero reference counts), Python uses a generational garbage collector that periodically finds and clears these unreachable cycles."
      ],
      "metadata": {
        "id": "X_ui4jvJigCU"
      }
    },
    {
      "cell_type": "markdown",
      "source": [
        "16.What is the purpose of the else block in exception handling?\n",
        "\n",
        "The purpose of the else block in exception handling is:\n",
        "\n",
        "To execute code only if the try block did not raise any exceptions.\n",
        "\n",
        "It is used for code that should run when the try block succeeds, separate from the code that handles errors (except).\n",
        "\n",
        "Helps keep the try block small and focused on the code that might raise exceptions.\n",
        "\n",
        "Prevents accidentally catching exceptions from code that shouldn’t be in the try block."
      ],
      "metadata": {
        "id": "CQEHnOm9ixhw"
      }
    },
    {
      "cell_type": "markdown",
      "source": [
        "17.What are the common logging levels in Python?\n",
        "\n",
        "The common logging levels in Python are:\n",
        "\n",
        "DEBUG: Detailed information, mainly for diagnosing problems.\n",
        "\n",
        "INFO: Confirmation that things are working as expected.\n",
        "\n",
        "WARNING: An indication of potential issues or important events that are not errors.\n",
        "\n",
        "ERROR: An error that caused a failure in some functionality.\n",
        "\n",
        "CRITICAL: A very serious error indicating the program may not continue running."
      ],
      "metadata": {
        "id": "CniCUvvhkUXl"
      }
    },
    {
      "cell_type": "markdown",
      "source": [
        "18.What is the difference between os.fork() and multiprocessing in Python?\n",
        "\n",
        "The difference between os.fork() and multiprocessing in Python is:\n",
        "\n",
        "os.fork() is a low-level UNIX system call that creates a child process by duplicating the current process, sharing the same memory and resources at the time of forking. It is only available on Unix-like systems and does not work on Windows.\n",
        "\n",
        "multiprocessing is a high-level Python module that creates independent processes with separate memory spaces and Python interpreters. It is cross-platform, works on Unix and Windows, and provides features like process synchronization, communication, and easier process management."
      ],
      "metadata": {
        "id": "UWEdN463kh1V"
      }
    },
    {
      "cell_type": "markdown",
      "source": [
        "19.What is the importance of closing a file in Python?\n",
        "\n",
        "The importance of closing a file in Python:\n",
        "\n",
        "Closing a file releases system resources (like file handles) that are limited and managed by the operating system.\n",
        "\n",
        "It flushes any buffered data to the disk, ensuring that all writes are saved and data is not lost.\n",
        "\n",
        "Properly closed files prevent data corruption and avoid errors in subsequent file access."
      ],
      "metadata": {
        "id": "9BN9iCYylL64"
      }
    },
    {
      "cell_type": "markdown",
      "source": [
        "20.What is the difference between file.read() and file.readline() in Python?\n",
        "\n",
        "The difference between file.read() and file.readline() in Python is:\n",
        "\n",
        "file.read() reads the entire content of the file (or a specified number of characters) at once and returns it as a single string.\n",
        "\n",
        "file.readline() reads one line at a time from the file and returns it as a string, including the newline character at the end."
      ],
      "metadata": {
        "id": "OtiZl77WmMvR"
      }
    },
    {
      "cell_type": "markdown",
      "source": [
        "21.What is the logging module in Python used for?\n",
        "\n",
        "The logging module in Python is used for recording events and messages during program execution. It helps developers:\n",
        "\n",
        "Track application flow and debug errors efficiently.\n",
        "\n",
        "Record messages of various severity levels (DEBUG, INFO, WARNING, ERROR, CRITICAL).\n",
        "\n",
        "Save logs to files, consoles, or other destinations.\n",
        "\n",
        "Analyze program behavior and monitor performance."
      ],
      "metadata": {
        "id": "S7tzIKVPmacu"
      }
    },
    {
      "cell_type": "markdown",
      "source": [
        "22.What is the os module in Python used for in file handling?\n",
        "\n",
        "The os module in Python is used in file handling to perform operating system-level tasks such as:\n",
        "\n",
        "Creating, deleting, renaming, and moving files and directories.\n",
        "\n",
        "Getting file properties like size, permissions, and metadata.\n",
        "\n",
        "Changing file permissions and ownership.\n",
        "\n",
        "Navigating and managing the current working directory."
      ],
      "metadata": {
        "id": "Iu-6cZ-AmpGF"
      }
    },
    {
      "cell_type": "markdown",
      "source": [
        "23.What are the challenges associated with memory management in Python?\n",
        "\n",
        "Challenges associated with memory management in Python include:\n",
        "\n",
        "Reference Cycles: Objects referencing each other can create cycles that the reference counting mechanism cannot clean up immediately.\n",
        "\n",
        "Garbage Collection Overhead: The generational garbage collector periodically runs to detect and collect cyclic garbage, which can cause performance overhead.\n",
        "\n",
        "Memory Fragmentation: Frequent allocation and deallocation of memory can lead to fragmentation, reducing efficiency.\n",
        "\n",
        "Large Object Handling: Managing large data structures consumes significant memory and can lead to slowdowns if not optimized.\n",
        "\n",
        "Global Interpreter Lock (GIL): Limits multi-threaded memory operations that can affect optimization in multi-core environments."
      ],
      "metadata": {
        "id": "j2buZ9x9m36S"
      }
    },
    {
      "cell_type": "markdown",
      "source": [
        "24.How do you raise an exception manually in Python?\n",
        "\n",
        "To raise an exception manually in Python, use the raise keyword followed by an exception class or an instance of an exception, optionally with an error message."
      ],
      "metadata": {
        "id": "Q1368cZoncfL"
      }
    },
    {
      "cell_type": "markdown",
      "source": [
        "25.Why is it important to use multithreading in certain applications?\n",
        "\n",
        "The importance of using multithreading in certain applications is:\n",
        "\n",
        "Improves performance by running multiple tasks simultaneously, especially I/O-bound tasks.\n",
        "\n",
        "Increases responsiveness, keeping user interfaces active during long operations.\n",
        "\n",
        "Enables efficient resource utilization, allowing better concurrency on multiple inputs/outputs.\n",
        "\n",
        "Supports scalability for handling many simultaneous user requests in real-time applications.\n",
        "\n",
        "Reduces latency by processing tasks concurrently, suited for real-time processing needs."
      ],
      "metadata": {
        "id": "5JEXmt8-n2Jw"
      }
    },
    {
      "cell_type": "markdown",
      "source": [
        "Practical Questions:\n"
      ],
      "metadata": {
        "id": "oOeJz9TXoCIT"
      }
    },
    {
      "cell_type": "markdown",
      "source": [
        "1.How can you open a file for writing in Python and write a string to it\u001f?"
      ],
      "metadata": {
        "id": "JO_mCuNGbShy"
      }
    },
    {
      "cell_type": "code",
      "source": [
        "with open(\"filename.txt\", \"w\") as f:\n",
        "    f.write(\"Your string here\")\n"
      ],
      "metadata": {
        "id": "JHMwF1QN2rVV"
      },
      "execution_count": 1,
      "outputs": []
    },
    {
      "cell_type": "markdown",
      "source": [
        "2.Write a Python program to read the contents of a file and print each line."
      ],
      "metadata": {
        "id": "SPPT2KuH2uxr"
      }
    },
    {
      "cell_type": "code",
      "source": [
        "with open(\"output.txt\", \"r\") as file:\n",
        "    for line in file:\n",
        "        print(line.strip())\n"
      ],
      "metadata": {
        "colab": {
          "base_uri": "https://localhost:8080/"
        },
        "id": "i-6rV_RN28Wk",
        "outputId": "ca52c575-029e-4f30-cadb-bbb67339a866"
      },
      "execution_count": 10,
      "outputs": [
        {
          "output_type": "stream",
          "name": "stdout",
          "text": [
            "First line\n",
            "Second line\n",
            "Third line\n"
          ]
        }
      ]
    },
    {
      "cell_type": "markdown",
      "source": [
        "3.How would you handle a case where the file doesn't exist while trying to open it for reading\u001f?"
      ],
      "metadata": {
        "id": "IHDllI9w2-8O"
      }
    },
    {
      "cell_type": "code",
      "source": [
        "try:\n",
        "    with open(\"myfile.txt\", \"r\") as file:\n",
        "        content = file.read()\n",
        "except FileNotFoundError:\n",
        "    print(\"File does not exist.\")\n"
      ],
      "metadata": {
        "id": "7siyoG7W3b-y"
      },
      "execution_count": null,
      "outputs": []
    },
    {
      "cell_type": "markdown",
      "source": [
        "4.Write a Python script that reads from one file and writes its content to another file?"
      ],
      "metadata": {
        "id": "JFDXqpToAJQB"
      }
    },
    {
      "cell_type": "code",
      "source": [
        "# Reading from 'input.txt' and writing to 'output.txt'\n",
        "with open('testfile.txt', 'r') as source_file:\n",
        "    content = source_file.read()\n",
        "\n",
        "with open('output.txt', 'w') as dest_file:\n",
        "    dest_file.write(content)\n"
      ],
      "metadata": {
        "id": "mCBikzVpAkIZ"
      },
      "execution_count": 16,
      "outputs": []
    },
    {
      "cell_type": "markdown",
      "source": [
        "5.How would you catch and handle division by zero error in Python?"
      ],
      "metadata": {
        "id": "-UmJnkgs_7l1"
      }
    },
    {
      "cell_type": "code",
      "source": [
        "try:\n",
        "    result = numerator / denominator\n",
        "except ZeroDivisionError:\n",
        "    print(\"Error: Cannot divide by zero.\")\n"
      ],
      "metadata": {
        "id": "UTYSPsYi_8o9"
      },
      "execution_count": null,
      "outputs": []
    },
    {
      "cell_type": "markdown",
      "source": [
        "6.Write a Python program that logs an error message to a log file when a division by zero exception occurs?"
      ],
      "metadata": {
        "id": "h-Y0FEa1AvsN"
      }
    },
    {
      "cell_type": "code",
      "source": [
        "import logging\n",
        "\n",
        "# Configure logging to write messages to a file named 'error.log'\n",
        "logging.basicConfig(filename='error.log', level=logging.ERROR,\n",
        "                    format='%(asctime)s - %(levelname)s - %(message)s')\n",
        "\n",
        "def divide_numbers(x, y):\n",
        "    try:\n",
        "        result = x / y\n",
        "        print(\"Result:\", result)\n",
        "    except ZeroDivisionError:\n",
        "        logging.error(\"Division by zero error occurred with values: %s / %s\", x, y)\n",
        "        print(\"An error occurred: cannot divide by zero.\")\n",
        "\n",
        "# Example usage\n",
        "numerator = 10\n",
        "denominator = 0\n",
        "divide_numbers(numerator, denominator)\n"
      ],
      "metadata": {
        "colab": {
          "base_uri": "https://localhost:8080/"
        },
        "id": "kF_J9A1pBIr9",
        "outputId": "3e265c18-efa5-4f99-b011-186c3f3ddf12"
      },
      "execution_count": 2,
      "outputs": [
        {
          "output_type": "stream",
          "name": "stderr",
          "text": [
            "ERROR:root:Division by zero error occurred with values: 10 / 0\n"
          ]
        },
        {
          "output_type": "stream",
          "name": "stdout",
          "text": [
            "An error occurred: cannot divide by zero.\n"
          ]
        }
      ]
    },
    {
      "cell_type": "markdown",
      "source": [
        "7.How do you log information at different levels (INFO, ERROR, WARNING) in Python using the logging module?"
      ],
      "metadata": {
        "id": "TEjdublzU6PT"
      }
    },
    {
      "cell_type": "code",
      "source": [
        "import logging\n",
        "\n",
        "# Configure basic logging\n",
        "logging.basicConfig(level=logging.DEBUG,\n",
        "                    format='%(levelname)s: %(message)s')\n",
        "\n",
        "# Log messages with different severity levels\n",
        "logging.info(\"This is an info message\")\n",
        "logging.warning(\"This is a warning message\")\n",
        "logging.error(\"This is an error message\")\n"
      ],
      "metadata": {
        "colab": {
          "base_uri": "https://localhost:8080/"
        },
        "id": "ALs8LpZ5U70j",
        "outputId": "1ee174ba-dbbc-4e6e-f5b7-3333933f1091"
      },
      "execution_count": 3,
      "outputs": [
        {
          "output_type": "stream",
          "name": "stderr",
          "text": [
            "WARNING:root:This is a warning message\n",
            "ERROR:root:This is an error message\n"
          ]
        }
      ]
    },
    {
      "cell_type": "markdown",
      "source": [
        "8.Write a program to handle a file opening error using exception handling?"
      ],
      "metadata": {
        "id": "8zmnHWYuLezl"
      }
    },
    {
      "cell_type": "code",
      "source": [
        "filename = \"mydata.txt\"\n",
        "\n",
        "try:\n",
        "    with open(filename, 'r') as file:\n",
        "        data = file.read()\n",
        "        print(\"File contents:\")\n",
        "        print(data)\n",
        "except FileNotFoundError:\n",
        "    print(f\"Error: The file '{filename}' was not found.\")\n",
        "except IOError:\n",
        "    print(f\"Error: An I/O error occurred while opening '{filename}'.\")\n"
      ],
      "metadata": {
        "colab": {
          "base_uri": "https://localhost:8080/"
        },
        "id": "xDxO52caLgtc",
        "outputId": "e421e330-fa59-442a-9280-96a5209271c9"
      },
      "execution_count": 1,
      "outputs": [
        {
          "output_type": "stream",
          "name": "stdout",
          "text": [
            "Error: The file 'mydata.txt' was not found.\n"
          ]
        }
      ]
    },
    {
      "cell_type": "markdown",
      "source": [
        "9.How can you read a file line by line and store its content in a list in Python"
      ],
      "metadata": {
        "id": "95E30DM9NPUv"
      }
    },
    {
      "cell_type": "code",
      "source": [
        "with open('testfile.txt', 'w') as file:\n",
        "    file.write('First line\\nSecond line\\nThird line\\n')\n",
        "\n",
        "\n",
        "with open('testfile.txt', 'r') as file:\n",
        "    lines = [line.strip() for line in file]\n",
        "print(lines)"
      ],
      "metadata": {
        "colab": {
          "base_uri": "https://localhost:8080/"
        },
        "id": "PDxRNmLhNQSQ",
        "outputId": "568f1177-07bd-4f6a-f06b-1fafc186a0c4"
      },
      "execution_count": 22,
      "outputs": [
        {
          "output_type": "stream",
          "name": "stdout",
          "text": [
            "['First line', 'Second line', 'Third line']\n"
          ]
        }
      ]
    },
    {
      "cell_type": "markdown",
      "source": [
        "10.How can you append data to an existing file in Python?"
      ],
      "metadata": {
        "id": "E_dCKa_SRHMx"
      }
    },
    {
      "cell_type": "code",
      "source": [
        "with open('testfile.txt', 'a') as file:\n",
        "    file.write(\"This is the new line added to the file.\\n\")\n",
        "\n",
        "with open('testfile.txt', 'r') as file:\n",
        "    contents = file.read()\n",
        "    print(contents)\n"
      ],
      "metadata": {
        "colab": {
          "base_uri": "https://localhost:8080/"
        },
        "id": "5_9TpcicPBYI",
        "outputId": "73674f6c-e64c-45d3-99d6-fc3c5c945a33"
      },
      "execution_count": 23,
      "outputs": [
        {
          "output_type": "stream",
          "name": "stdout",
          "text": [
            "First line\n",
            "Second line\n",
            "Third line\n",
            "This is the new line added to the file.\n",
            "\n"
          ]
        }
      ]
    },
    {
      "cell_type": "markdown",
      "source": [
        "11.Write a Python program that uses a try-except block to handle an error when attempting to access a dictionary key that doesn't exist."
      ],
      "metadata": {
        "id": "m5-p5luOVopP"
      }
    },
    {
      "cell_type": "code",
      "source": [
        "my_dict = {'a': 1, 'b': 2, 'c': 3}\n",
        "\n",
        "try:\n",
        "    # Attempt to access a key that might not exist\n",
        "    value = my_dict['d']\n",
        "    print(f\"The value for key 'd' is {value}\")\n",
        "except KeyError:\n",
        "    print(\"Error: Key 'd' does not exist in the dictionary.\")\n"
      ],
      "metadata": {
        "colab": {
          "base_uri": "https://localhost:8080/"
        },
        "id": "aiwgzq89V5Ex",
        "outputId": "05798166-d082-4c9b-f48b-7b4e021f478a"
      },
      "execution_count": 24,
      "outputs": [
        {
          "output_type": "stream",
          "name": "stdout",
          "text": [
            "Error: Key 'd' does not exist in the dictionary.\n"
          ]
        }
      ]
    },
    {
      "cell_type": "markdown",
      "source": [
        "12.Write a program that demonstrates using multiple except blocks to handle different types of exceptions."
      ],
      "metadata": {
        "id": "HNQ2XMytW_VW"
      }
    },
    {
      "cell_type": "code",
      "source": [
        "try:\n",
        "    # Input a number and divide 10 by it\n",
        "    num = int(input(\"Enter a number: \"))\n",
        "    result = 10 / num\n",
        "\n",
        "    # Access an invalid index in a list\n",
        "    sample_list = [1, 2, 3]\n",
        "    print(sample_list[num])\n",
        "\n",
        "except ZeroDivisionError:\n",
        "    print(\"Error: Cannot divide by zero.\")\n",
        "\n",
        "except ValueError:\n",
        "    print(\"Error: Invalid input. Please enter an integer.\")\n",
        "\n",
        "except IndexError:\n",
        "    print(\"Error: List index out of range.\")\n",
        "\n",
        "except Exception as e:\n",
        "    print(f\"An unexpected error occurred: {e}\")\n",
        "\n",
        "else:\n",
        "    print(f\"Result is {result}, and list element is {sample_list[num]}\")\n",
        "\n",
        "finally:\n",
        "    print(\"Execution of try-except blocks is complete.\")\n"
      ],
      "metadata": {
        "colab": {
          "base_uri": "https://localhost:8080/"
        },
        "id": "4AC7_q-yXJAD",
        "outputId": "465ecf35-539c-40b1-a4cf-67ffb4e4b53f"
      },
      "execution_count": 25,
      "outputs": [
        {
          "output_type": "stream",
          "name": "stdout",
          "text": [
            "Enter a number: 0\n",
            "Error: Cannot divide by zero.\n",
            "Execution of try-except blocks is complete.\n"
          ]
        }
      ]
    },
    {
      "cell_type": "markdown",
      "source": [
        "13.How would you check if a file exists before attempting to read it in Python"
      ],
      "metadata": {
        "id": "nWTmrASGZ17w"
      }
    },
    {
      "cell_type": "code",
      "source": [
        "import os\n",
        "\n",
        "filename = 'example.txt'\n",
        "\n",
        "if os.path.isfile(filename):\n",
        "    print(\"File exists, you can safely open it.\")\n",
        "    with open(filename, 'r') as file:\n",
        "        content = file.read()\n",
        "        print(content)\n",
        "else:\n",
        "    print(\"File does not exist.\")\n"
      ],
      "metadata": {
        "colab": {
          "base_uri": "https://localhost:8080/"
        },
        "id": "AE_kqFqnbUMW",
        "outputId": "cf130f99-da4f-4d13-d5dd-601397356dde"
      },
      "execution_count": 26,
      "outputs": [
        {
          "output_type": "stream",
          "name": "stdout",
          "text": [
            "File does not exist.\n"
          ]
        }
      ]
    },
    {
      "cell_type": "markdown",
      "source": [
        "14.Write a program that uses the logging module to log both informational and error messages."
      ],
      "metadata": {
        "id": "M9RYTAuYbWD4"
      }
    },
    {
      "cell_type": "code",
      "source": [
        "import logging\n",
        "\n",
        "# Configure logging to log messages to a file and console\n",
        "logging.basicConfig(level=logging.DEBUG,\n",
        "                    format='%(asctime)s - %(levelname)s - %(message)s',\n",
        "                    handlers=[\n",
        "                        logging.FileHandler(\"app.log\"),\n",
        "                        logging.StreamHandler()\n",
        "                    ])\n",
        "\n",
        "logging.info(\"This is an informational message.\")\n",
        "\n",
        "logging.error(\"This is an error message.\")\n"
      ],
      "metadata": {
        "colab": {
          "base_uri": "https://localhost:8080/"
        },
        "id": "wtvZxKh3b-4X",
        "outputId": "c8b7ad6c-bda1-43de-b28c-b5c49b55691c"
      },
      "execution_count": 27,
      "outputs": [
        {
          "output_type": "stream",
          "name": "stderr",
          "text": [
            "ERROR:root:This is an error message.\n"
          ]
        }
      ]
    },
    {
      "cell_type": "markdown",
      "source": [
        "15.Write a Python program that prints the content of a file and handles the case when the file is empty."
      ],
      "metadata": {
        "id": "BsRJD8EV7ezM"
      }
    },
    {
      "cell_type": "code",
      "source": [
        "filename = 'example.txt'\n",
        "\n",
        "try:\n",
        "    with open(filename, 'r') as file:\n",
        "        content = file.read()\n",
        "        if content:\n",
        "            print(\"File content:\")\n",
        "            print(content)\n",
        "        else:\n",
        "            print(\"The file is empty.\")\n",
        "except FileNotFoundError:\n",
        "    print(f\"Error: The file '{filename}' does not exist.\")\n",
        "except IOError:\n",
        "    print(f\"Error: Could not read the file '{filename}'.\")\n"
      ],
      "metadata": {
        "id": "3atb88cl7gSa"
      },
      "execution_count": null,
      "outputs": []
    },
    {
      "cell_type": "markdown",
      "source": [
        "16.Demonstrate how to use memory profiling to check the memory usage of a small program."
      ],
      "metadata": {
        "id": "alYGlNne9XOe"
      }
    },
    {
      "cell_type": "code",
      "source": [
        "from memory_profiler import profile\n",
        "\n",
        "@profile\n",
        "def my_function():\n",
        "    a = [x for x in range(100000)]\n",
        "    b = [x * 2 for x in range(100000)]\n",
        "    del a\n",
        "    return b\n",
        "\n",
        "my_function()\n",
        "\n"
      ],
      "metadata": {
        "colab": {
          "base_uri": "https://localhost:8080/"
        },
        "id": "R2tPzGp99YZg",
        "outputId": "fc42d63a-2010-4f61-c684-bfb24fec6130"
      },
      "execution_count": 32,
      "outputs": [
        {
          "output_type": "stream",
          "name": "stdout",
          "text": [
            "ERROR: Could not find file /tmp/ipython-input-3180088200.py\n"
          ]
        },
        {
          "output_type": "execute_result",
          "data": {
            "text/plain": [
              "[0,\n",
              " 2,\n",
              " 4,\n",
              " 6,\n",
              " 8,\n",
              " 10,\n",
              " 12,\n",
              " 14,\n",
              " 16,\n",
              " 18,\n",
              " 20,\n",
              " 22,\n",
              " 24,\n",
              " 26,\n",
              " 28,\n",
              " 30,\n",
              " 32,\n",
              " 34,\n",
              " 36,\n",
              " 38,\n",
              " 40,\n",
              " 42,\n",
              " 44,\n",
              " 46,\n",
              " 48,\n",
              " 50,\n",
              " 52,\n",
              " 54,\n",
              " 56,\n",
              " 58,\n",
              " 60,\n",
              " 62,\n",
              " 64,\n",
              " 66,\n",
              " 68,\n",
              " 70,\n",
              " 72,\n",
              " 74,\n",
              " 76,\n",
              " 78,\n",
              " 80,\n",
              " 82,\n",
              " 84,\n",
              " 86,\n",
              " 88,\n",
              " 90,\n",
              " 92,\n",
              " 94,\n",
              " 96,\n",
              " 98,\n",
              " 100,\n",
              " 102,\n",
              " 104,\n",
              " 106,\n",
              " 108,\n",
              " 110,\n",
              " 112,\n",
              " 114,\n",
              " 116,\n",
              " 118,\n",
              " 120,\n",
              " 122,\n",
              " 124,\n",
              " 126,\n",
              " 128,\n",
              " 130,\n",
              " 132,\n",
              " 134,\n",
              " 136,\n",
              " 138,\n",
              " 140,\n",
              " 142,\n",
              " 144,\n",
              " 146,\n",
              " 148,\n",
              " 150,\n",
              " 152,\n",
              " 154,\n",
              " 156,\n",
              " 158,\n",
              " 160,\n",
              " 162,\n",
              " 164,\n",
              " 166,\n",
              " 168,\n",
              " 170,\n",
              " 172,\n",
              " 174,\n",
              " 176,\n",
              " 178,\n",
              " 180,\n",
              " 182,\n",
              " 184,\n",
              " 186,\n",
              " 188,\n",
              " 190,\n",
              " 192,\n",
              " 194,\n",
              " 196,\n",
              " 198,\n",
              " 200,\n",
              " 202,\n",
              " 204,\n",
              " 206,\n",
              " 208,\n",
              " 210,\n",
              " 212,\n",
              " 214,\n",
              " 216,\n",
              " 218,\n",
              " 220,\n",
              " 222,\n",
              " 224,\n",
              " 226,\n",
              " 228,\n",
              " 230,\n",
              " 232,\n",
              " 234,\n",
              " 236,\n",
              " 238,\n",
              " 240,\n",
              " 242,\n",
              " 244,\n",
              " 246,\n",
              " 248,\n",
              " 250,\n",
              " 252,\n",
              " 254,\n",
              " 256,\n",
              " 258,\n",
              " 260,\n",
              " 262,\n",
              " 264,\n",
              " 266,\n",
              " 268,\n",
              " 270,\n",
              " 272,\n",
              " 274,\n",
              " 276,\n",
              " 278,\n",
              " 280,\n",
              " 282,\n",
              " 284,\n",
              " 286,\n",
              " 288,\n",
              " 290,\n",
              " 292,\n",
              " 294,\n",
              " 296,\n",
              " 298,\n",
              " 300,\n",
              " 302,\n",
              " 304,\n",
              " 306,\n",
              " 308,\n",
              " 310,\n",
              " 312,\n",
              " 314,\n",
              " 316,\n",
              " 318,\n",
              " 320,\n",
              " 322,\n",
              " 324,\n",
              " 326,\n",
              " 328,\n",
              " 330,\n",
              " 332,\n",
              " 334,\n",
              " 336,\n",
              " 338,\n",
              " 340,\n",
              " 342,\n",
              " 344,\n",
              " 346,\n",
              " 348,\n",
              " 350,\n",
              " 352,\n",
              " 354,\n",
              " 356,\n",
              " 358,\n",
              " 360,\n",
              " 362,\n",
              " 364,\n",
              " 366,\n",
              " 368,\n",
              " 370,\n",
              " 372,\n",
              " 374,\n",
              " 376,\n",
              " 378,\n",
              " 380,\n",
              " 382,\n",
              " 384,\n",
              " 386,\n",
              " 388,\n",
              " 390,\n",
              " 392,\n",
              " 394,\n",
              " 396,\n",
              " 398,\n",
              " 400,\n",
              " 402,\n",
              " 404,\n",
              " 406,\n",
              " 408,\n",
              " 410,\n",
              " 412,\n",
              " 414,\n",
              " 416,\n",
              " 418,\n",
              " 420,\n",
              " 422,\n",
              " 424,\n",
              " 426,\n",
              " 428,\n",
              " 430,\n",
              " 432,\n",
              " 434,\n",
              " 436,\n",
              " 438,\n",
              " 440,\n",
              " 442,\n",
              " 444,\n",
              " 446,\n",
              " 448,\n",
              " 450,\n",
              " 452,\n",
              " 454,\n",
              " 456,\n",
              " 458,\n",
              " 460,\n",
              " 462,\n",
              " 464,\n",
              " 466,\n",
              " 468,\n",
              " 470,\n",
              " 472,\n",
              " 474,\n",
              " 476,\n",
              " 478,\n",
              " 480,\n",
              " 482,\n",
              " 484,\n",
              " 486,\n",
              " 488,\n",
              " 490,\n",
              " 492,\n",
              " 494,\n",
              " 496,\n",
              " 498,\n",
              " 500,\n",
              " 502,\n",
              " 504,\n",
              " 506,\n",
              " 508,\n",
              " 510,\n",
              " 512,\n",
              " 514,\n",
              " 516,\n",
              " 518,\n",
              " 520,\n",
              " 522,\n",
              " 524,\n",
              " 526,\n",
              " 528,\n",
              " 530,\n",
              " 532,\n",
              " 534,\n",
              " 536,\n",
              " 538,\n",
              " 540,\n",
              " 542,\n",
              " 544,\n",
              " 546,\n",
              " 548,\n",
              " 550,\n",
              " 552,\n",
              " 554,\n",
              " 556,\n",
              " 558,\n",
              " 560,\n",
              " 562,\n",
              " 564,\n",
              " 566,\n",
              " 568,\n",
              " 570,\n",
              " 572,\n",
              " 574,\n",
              " 576,\n",
              " 578,\n",
              " 580,\n",
              " 582,\n",
              " 584,\n",
              " 586,\n",
              " 588,\n",
              " 590,\n",
              " 592,\n",
              " 594,\n",
              " 596,\n",
              " 598,\n",
              " 600,\n",
              " 602,\n",
              " 604,\n",
              " 606,\n",
              " 608,\n",
              " 610,\n",
              " 612,\n",
              " 614,\n",
              " 616,\n",
              " 618,\n",
              " 620,\n",
              " 622,\n",
              " 624,\n",
              " 626,\n",
              " 628,\n",
              " 630,\n",
              " 632,\n",
              " 634,\n",
              " 636,\n",
              " 638,\n",
              " 640,\n",
              " 642,\n",
              " 644,\n",
              " 646,\n",
              " 648,\n",
              " 650,\n",
              " 652,\n",
              " 654,\n",
              " 656,\n",
              " 658,\n",
              " 660,\n",
              " 662,\n",
              " 664,\n",
              " 666,\n",
              " 668,\n",
              " 670,\n",
              " 672,\n",
              " 674,\n",
              " 676,\n",
              " 678,\n",
              " 680,\n",
              " 682,\n",
              " 684,\n",
              " 686,\n",
              " 688,\n",
              " 690,\n",
              " 692,\n",
              " 694,\n",
              " 696,\n",
              " 698,\n",
              " 700,\n",
              " 702,\n",
              " 704,\n",
              " 706,\n",
              " 708,\n",
              " 710,\n",
              " 712,\n",
              " 714,\n",
              " 716,\n",
              " 718,\n",
              " 720,\n",
              " 722,\n",
              " 724,\n",
              " 726,\n",
              " 728,\n",
              " 730,\n",
              " 732,\n",
              " 734,\n",
              " 736,\n",
              " 738,\n",
              " 740,\n",
              " 742,\n",
              " 744,\n",
              " 746,\n",
              " 748,\n",
              " 750,\n",
              " 752,\n",
              " 754,\n",
              " 756,\n",
              " 758,\n",
              " 760,\n",
              " 762,\n",
              " 764,\n",
              " 766,\n",
              " 768,\n",
              " 770,\n",
              " 772,\n",
              " 774,\n",
              " 776,\n",
              " 778,\n",
              " 780,\n",
              " 782,\n",
              " 784,\n",
              " 786,\n",
              " 788,\n",
              " 790,\n",
              " 792,\n",
              " 794,\n",
              " 796,\n",
              " 798,\n",
              " 800,\n",
              " 802,\n",
              " 804,\n",
              " 806,\n",
              " 808,\n",
              " 810,\n",
              " 812,\n",
              " 814,\n",
              " 816,\n",
              " 818,\n",
              " 820,\n",
              " 822,\n",
              " 824,\n",
              " 826,\n",
              " 828,\n",
              " 830,\n",
              " 832,\n",
              " 834,\n",
              " 836,\n",
              " 838,\n",
              " 840,\n",
              " 842,\n",
              " 844,\n",
              " 846,\n",
              " 848,\n",
              " 850,\n",
              " 852,\n",
              " 854,\n",
              " 856,\n",
              " 858,\n",
              " 860,\n",
              " 862,\n",
              " 864,\n",
              " 866,\n",
              " 868,\n",
              " 870,\n",
              " 872,\n",
              " 874,\n",
              " 876,\n",
              " 878,\n",
              " 880,\n",
              " 882,\n",
              " 884,\n",
              " 886,\n",
              " 888,\n",
              " 890,\n",
              " 892,\n",
              " 894,\n",
              " 896,\n",
              " 898,\n",
              " 900,\n",
              " 902,\n",
              " 904,\n",
              " 906,\n",
              " 908,\n",
              " 910,\n",
              " 912,\n",
              " 914,\n",
              " 916,\n",
              " 918,\n",
              " 920,\n",
              " 922,\n",
              " 924,\n",
              " 926,\n",
              " 928,\n",
              " 930,\n",
              " 932,\n",
              " 934,\n",
              " 936,\n",
              " 938,\n",
              " 940,\n",
              " 942,\n",
              " 944,\n",
              " 946,\n",
              " 948,\n",
              " 950,\n",
              " 952,\n",
              " 954,\n",
              " 956,\n",
              " 958,\n",
              " 960,\n",
              " 962,\n",
              " 964,\n",
              " 966,\n",
              " 968,\n",
              " 970,\n",
              " 972,\n",
              " 974,\n",
              " 976,\n",
              " 978,\n",
              " 980,\n",
              " 982,\n",
              " 984,\n",
              " 986,\n",
              " 988,\n",
              " 990,\n",
              " 992,\n",
              " 994,\n",
              " 996,\n",
              " 998,\n",
              " 1000,\n",
              " 1002,\n",
              " 1004,\n",
              " 1006,\n",
              " 1008,\n",
              " 1010,\n",
              " 1012,\n",
              " 1014,\n",
              " 1016,\n",
              " 1018,\n",
              " 1020,\n",
              " 1022,\n",
              " 1024,\n",
              " 1026,\n",
              " 1028,\n",
              " 1030,\n",
              " 1032,\n",
              " 1034,\n",
              " 1036,\n",
              " 1038,\n",
              " 1040,\n",
              " 1042,\n",
              " 1044,\n",
              " 1046,\n",
              " 1048,\n",
              " 1050,\n",
              " 1052,\n",
              " 1054,\n",
              " 1056,\n",
              " 1058,\n",
              " 1060,\n",
              " 1062,\n",
              " 1064,\n",
              " 1066,\n",
              " 1068,\n",
              " 1070,\n",
              " 1072,\n",
              " 1074,\n",
              " 1076,\n",
              " 1078,\n",
              " 1080,\n",
              " 1082,\n",
              " 1084,\n",
              " 1086,\n",
              " 1088,\n",
              " 1090,\n",
              " 1092,\n",
              " 1094,\n",
              " 1096,\n",
              " 1098,\n",
              " 1100,\n",
              " 1102,\n",
              " 1104,\n",
              " 1106,\n",
              " 1108,\n",
              " 1110,\n",
              " 1112,\n",
              " 1114,\n",
              " 1116,\n",
              " 1118,\n",
              " 1120,\n",
              " 1122,\n",
              " 1124,\n",
              " 1126,\n",
              " 1128,\n",
              " 1130,\n",
              " 1132,\n",
              " 1134,\n",
              " 1136,\n",
              " 1138,\n",
              " 1140,\n",
              " 1142,\n",
              " 1144,\n",
              " 1146,\n",
              " 1148,\n",
              " 1150,\n",
              " 1152,\n",
              " 1154,\n",
              " 1156,\n",
              " 1158,\n",
              " 1160,\n",
              " 1162,\n",
              " 1164,\n",
              " 1166,\n",
              " 1168,\n",
              " 1170,\n",
              " 1172,\n",
              " 1174,\n",
              " 1176,\n",
              " 1178,\n",
              " 1180,\n",
              " 1182,\n",
              " 1184,\n",
              " 1186,\n",
              " 1188,\n",
              " 1190,\n",
              " 1192,\n",
              " 1194,\n",
              " 1196,\n",
              " 1198,\n",
              " 1200,\n",
              " 1202,\n",
              " 1204,\n",
              " 1206,\n",
              " 1208,\n",
              " 1210,\n",
              " 1212,\n",
              " 1214,\n",
              " 1216,\n",
              " 1218,\n",
              " 1220,\n",
              " 1222,\n",
              " 1224,\n",
              " 1226,\n",
              " 1228,\n",
              " 1230,\n",
              " 1232,\n",
              " 1234,\n",
              " 1236,\n",
              " 1238,\n",
              " 1240,\n",
              " 1242,\n",
              " 1244,\n",
              " 1246,\n",
              " 1248,\n",
              " 1250,\n",
              " 1252,\n",
              " 1254,\n",
              " 1256,\n",
              " 1258,\n",
              " 1260,\n",
              " 1262,\n",
              " 1264,\n",
              " 1266,\n",
              " 1268,\n",
              " 1270,\n",
              " 1272,\n",
              " 1274,\n",
              " 1276,\n",
              " 1278,\n",
              " 1280,\n",
              " 1282,\n",
              " 1284,\n",
              " 1286,\n",
              " 1288,\n",
              " 1290,\n",
              " 1292,\n",
              " 1294,\n",
              " 1296,\n",
              " 1298,\n",
              " 1300,\n",
              " 1302,\n",
              " 1304,\n",
              " 1306,\n",
              " 1308,\n",
              " 1310,\n",
              " 1312,\n",
              " 1314,\n",
              " 1316,\n",
              " 1318,\n",
              " 1320,\n",
              " 1322,\n",
              " 1324,\n",
              " 1326,\n",
              " 1328,\n",
              " 1330,\n",
              " 1332,\n",
              " 1334,\n",
              " 1336,\n",
              " 1338,\n",
              " 1340,\n",
              " 1342,\n",
              " 1344,\n",
              " 1346,\n",
              " 1348,\n",
              " 1350,\n",
              " 1352,\n",
              " 1354,\n",
              " 1356,\n",
              " 1358,\n",
              " 1360,\n",
              " 1362,\n",
              " 1364,\n",
              " 1366,\n",
              " 1368,\n",
              " 1370,\n",
              " 1372,\n",
              " 1374,\n",
              " 1376,\n",
              " 1378,\n",
              " 1380,\n",
              " 1382,\n",
              " 1384,\n",
              " 1386,\n",
              " 1388,\n",
              " 1390,\n",
              " 1392,\n",
              " 1394,\n",
              " 1396,\n",
              " 1398,\n",
              " 1400,\n",
              " 1402,\n",
              " 1404,\n",
              " 1406,\n",
              " 1408,\n",
              " 1410,\n",
              " 1412,\n",
              " 1414,\n",
              " 1416,\n",
              " 1418,\n",
              " 1420,\n",
              " 1422,\n",
              " 1424,\n",
              " 1426,\n",
              " 1428,\n",
              " 1430,\n",
              " 1432,\n",
              " 1434,\n",
              " 1436,\n",
              " 1438,\n",
              " 1440,\n",
              " 1442,\n",
              " 1444,\n",
              " 1446,\n",
              " 1448,\n",
              " 1450,\n",
              " 1452,\n",
              " 1454,\n",
              " 1456,\n",
              " 1458,\n",
              " 1460,\n",
              " 1462,\n",
              " 1464,\n",
              " 1466,\n",
              " 1468,\n",
              " 1470,\n",
              " 1472,\n",
              " 1474,\n",
              " 1476,\n",
              " 1478,\n",
              " 1480,\n",
              " 1482,\n",
              " 1484,\n",
              " 1486,\n",
              " 1488,\n",
              " 1490,\n",
              " 1492,\n",
              " 1494,\n",
              " 1496,\n",
              " 1498,\n",
              " 1500,\n",
              " 1502,\n",
              " 1504,\n",
              " 1506,\n",
              " 1508,\n",
              " 1510,\n",
              " 1512,\n",
              " 1514,\n",
              " 1516,\n",
              " 1518,\n",
              " 1520,\n",
              " 1522,\n",
              " 1524,\n",
              " 1526,\n",
              " 1528,\n",
              " 1530,\n",
              " 1532,\n",
              " 1534,\n",
              " 1536,\n",
              " 1538,\n",
              " 1540,\n",
              " 1542,\n",
              " 1544,\n",
              " 1546,\n",
              " 1548,\n",
              " 1550,\n",
              " 1552,\n",
              " 1554,\n",
              " 1556,\n",
              " 1558,\n",
              " 1560,\n",
              " 1562,\n",
              " 1564,\n",
              " 1566,\n",
              " 1568,\n",
              " 1570,\n",
              " 1572,\n",
              " 1574,\n",
              " 1576,\n",
              " 1578,\n",
              " 1580,\n",
              " 1582,\n",
              " 1584,\n",
              " 1586,\n",
              " 1588,\n",
              " 1590,\n",
              " 1592,\n",
              " 1594,\n",
              " 1596,\n",
              " 1598,\n",
              " 1600,\n",
              " 1602,\n",
              " 1604,\n",
              " 1606,\n",
              " 1608,\n",
              " 1610,\n",
              " 1612,\n",
              " 1614,\n",
              " 1616,\n",
              " 1618,\n",
              " 1620,\n",
              " 1622,\n",
              " 1624,\n",
              " 1626,\n",
              " 1628,\n",
              " 1630,\n",
              " 1632,\n",
              " 1634,\n",
              " 1636,\n",
              " 1638,\n",
              " 1640,\n",
              " 1642,\n",
              " 1644,\n",
              " 1646,\n",
              " 1648,\n",
              " 1650,\n",
              " 1652,\n",
              " 1654,\n",
              " 1656,\n",
              " 1658,\n",
              " 1660,\n",
              " 1662,\n",
              " 1664,\n",
              " 1666,\n",
              " 1668,\n",
              " 1670,\n",
              " 1672,\n",
              " 1674,\n",
              " 1676,\n",
              " 1678,\n",
              " 1680,\n",
              " 1682,\n",
              " 1684,\n",
              " 1686,\n",
              " 1688,\n",
              " 1690,\n",
              " 1692,\n",
              " 1694,\n",
              " 1696,\n",
              " 1698,\n",
              " 1700,\n",
              " 1702,\n",
              " 1704,\n",
              " 1706,\n",
              " 1708,\n",
              " 1710,\n",
              " 1712,\n",
              " 1714,\n",
              " 1716,\n",
              " 1718,\n",
              " 1720,\n",
              " 1722,\n",
              " 1724,\n",
              " 1726,\n",
              " 1728,\n",
              " 1730,\n",
              " 1732,\n",
              " 1734,\n",
              " 1736,\n",
              " 1738,\n",
              " 1740,\n",
              " 1742,\n",
              " 1744,\n",
              " 1746,\n",
              " 1748,\n",
              " 1750,\n",
              " 1752,\n",
              " 1754,\n",
              " 1756,\n",
              " 1758,\n",
              " 1760,\n",
              " 1762,\n",
              " 1764,\n",
              " 1766,\n",
              " 1768,\n",
              " 1770,\n",
              " 1772,\n",
              " 1774,\n",
              " 1776,\n",
              " 1778,\n",
              " 1780,\n",
              " 1782,\n",
              " 1784,\n",
              " 1786,\n",
              " 1788,\n",
              " 1790,\n",
              " 1792,\n",
              " 1794,\n",
              " 1796,\n",
              " 1798,\n",
              " 1800,\n",
              " 1802,\n",
              " 1804,\n",
              " 1806,\n",
              " 1808,\n",
              " 1810,\n",
              " 1812,\n",
              " 1814,\n",
              " 1816,\n",
              " 1818,\n",
              " 1820,\n",
              " 1822,\n",
              " 1824,\n",
              " 1826,\n",
              " 1828,\n",
              " 1830,\n",
              " 1832,\n",
              " 1834,\n",
              " 1836,\n",
              " 1838,\n",
              " 1840,\n",
              " 1842,\n",
              " 1844,\n",
              " 1846,\n",
              " 1848,\n",
              " 1850,\n",
              " 1852,\n",
              " 1854,\n",
              " 1856,\n",
              " 1858,\n",
              " 1860,\n",
              " 1862,\n",
              " 1864,\n",
              " 1866,\n",
              " 1868,\n",
              " 1870,\n",
              " 1872,\n",
              " 1874,\n",
              " 1876,\n",
              " 1878,\n",
              " 1880,\n",
              " 1882,\n",
              " 1884,\n",
              " 1886,\n",
              " 1888,\n",
              " 1890,\n",
              " 1892,\n",
              " 1894,\n",
              " 1896,\n",
              " 1898,\n",
              " 1900,\n",
              " 1902,\n",
              " 1904,\n",
              " 1906,\n",
              " 1908,\n",
              " 1910,\n",
              " 1912,\n",
              " 1914,\n",
              " 1916,\n",
              " 1918,\n",
              " 1920,\n",
              " 1922,\n",
              " 1924,\n",
              " 1926,\n",
              " 1928,\n",
              " 1930,\n",
              " 1932,\n",
              " 1934,\n",
              " 1936,\n",
              " 1938,\n",
              " 1940,\n",
              " 1942,\n",
              " 1944,\n",
              " 1946,\n",
              " 1948,\n",
              " 1950,\n",
              " 1952,\n",
              " 1954,\n",
              " 1956,\n",
              " 1958,\n",
              " 1960,\n",
              " 1962,\n",
              " 1964,\n",
              " 1966,\n",
              " 1968,\n",
              " 1970,\n",
              " 1972,\n",
              " 1974,\n",
              " 1976,\n",
              " 1978,\n",
              " 1980,\n",
              " 1982,\n",
              " 1984,\n",
              " 1986,\n",
              " 1988,\n",
              " 1990,\n",
              " 1992,\n",
              " 1994,\n",
              " 1996,\n",
              " 1998,\n",
              " ...]"
            ]
          },
          "metadata": {},
          "execution_count": 32
        }
      ]
    },
    {
      "cell_type": "markdown",
      "source": [
        "17.Write a Python program to create and write a list of numbers to a file, one number per line."
      ],
      "metadata": {
        "id": "rEQA9wIAXzHt"
      }
    },
    {
      "cell_type": "code",
      "source": [
        "numbers = [1, 2, 3, 4, 5, 6, 7, 8, 9, 10]\n",
        "\n",
        "filename = 'numbers.txt'\n",
        "\n",
        "with open(filename, 'w') as file:\n",
        "    for number in numbers:\n",
        "        file.write(f\"{number}\\n\")\n",
        "\n",
        "print(f\"List of numbers written to {filename}\")\n"
      ],
      "metadata": {
        "colab": {
          "base_uri": "https://localhost:8080/"
        },
        "id": "PziFS2sH_LpK",
        "outputId": "bcdab8eb-b3e1-4326-d07b-bac58c6fd6d5"
      },
      "execution_count": 34,
      "outputs": [
        {
          "output_type": "stream",
          "name": "stdout",
          "text": [
            "List of numbers written to numbers.txt\n"
          ]
        }
      ]
    },
    {
      "cell_type": "markdown",
      "source": [
        "18.How would you implement a basic logging setup that logs to a file with rotation after 1MB?"
      ],
      "metadata": {
        "id": "6oaSiPWcBvL7"
      }
    },
    {
      "cell_type": "code",
      "source": [
        "import logging\n",
        "from logging.handlers import RotatingFileHandler\n",
        "\n",
        "# Create a logger\n",
        "logger = logging.getLogger('MyLogger')\n",
        "logger.setLevel(logging.DEBUG)  # Log all levels DEBUG and above\n",
        "\n",
        "# Create a rotating file handler\n",
        "handler = RotatingFileHandler('app.log', maxBytes=1_000_000, backupCount=5)\n",
        "handler.setLevel(logging.DEBUG)\n",
        "\n",
        "# Create a formatter and set it for the handler\n",
        "formatter = logging.Formatter('%(asctime)s - %(levelname)s - %(message)s')\n",
        "handler.setFormatter(formatter)\n",
        "\n",
        "# Add the handler to the logger\n",
        "logger.addHandler(handler)\n",
        "\n",
        "# Example usage\n",
        "logger.info(\"This is an info message.\")\n",
        "logger.error(\"This is an error message.\")\n"
      ],
      "metadata": {
        "id": "XOBNu7ieBxrT"
      },
      "execution_count": null,
      "outputs": []
    },
    {
      "cell_type": "markdown",
      "source": [
        "19.Write a program that handles both IndexError and KeyError using a try-except block."
      ],
      "metadata": {
        "id": "bcukzI3tBzw0"
      }
    },
    {
      "cell_type": "code",
      "source": [
        "my_list = [10, 20, 30]\n",
        "my_dict = {'a': 1, 'b': 2}\n",
        "\n",
        "try:\n",
        "    # Attempt to access an invalid list index\n",
        "    print(my_list[5])\n",
        "\n",
        "    # Attempt to access a non-existent dictionary key\n",
        "    print(my_dict['c'])\n",
        "\n",
        "except IndexError:\n",
        "    print(\"Error: List index is out of range.\")\n",
        "\n",
        "except KeyError:\n",
        "    print(\"Error: Dictionary key does not exist.\")\n"
      ],
      "metadata": {
        "colab": {
          "base_uri": "https://localhost:8080/"
        },
        "id": "D8fyJ3HACG1P",
        "outputId": "8a1e5d2a-b029-43f2-9c07-25aec7a68ca3"
      },
      "execution_count": 33,
      "outputs": [
        {
          "output_type": "stream",
          "name": "stdout",
          "text": [
            "Error: List index is out of range.\n"
          ]
        }
      ]
    },
    {
      "cell_type": "markdown",
      "source": [
        "20.How would you open a file and read its contents using a context manager in Python?"
      ],
      "metadata": {
        "id": "9X-oSHv-Ci0O"
      }
    },
    {
      "cell_type": "code",
      "source": [
        "with open('testfile.txt', 'r') as file:\n",
        "    content = file.read()\n",
        "    print(content)\n"
      ],
      "metadata": {
        "colab": {
          "base_uri": "https://localhost:8080/"
        },
        "id": "bDzjTpSzCkHP",
        "outputId": "964375ba-6a24-4e35-e207-32a52b3d9dde"
      },
      "execution_count": 36,
      "outputs": [
        {
          "output_type": "stream",
          "name": "stdout",
          "text": [
            "First line\n",
            "Second line\n",
            "Third line\n",
            "This is the new line added to the file.\n",
            "\n"
          ]
        }
      ]
    },
    {
      "cell_type": "markdown",
      "source": [
        "21.Write a Python program that reads a file and prints the number of occurrences of a specific word."
      ],
      "metadata": {
        "id": "9BXEDWDbHsWb"
      }
    },
    {
      "cell_type": "code",
      "source": [
        "filename = 'testfile.txt'\n",
        "word_to_count = 'python'\n",
        "\n",
        "try:\n",
        "    with open(filename, 'r') as file:\n",
        "        content = file.read().lower()  # Read file content and convert to lowercase\n",
        "    word_count = content.split().count(word_to_count.lower())  # Count occurrences\n",
        "    print(f\"The word '{word_to_count}' occurs {word_count} times in the file.\")\n",
        "except FileNotFoundError:\n",
        "    print(f\"Error: The file '{filename}' does not exist.\")\n",
        "except IOError:\n",
        "    print(f\"Error: Could not read the file '{filename}'.\")\n"
      ],
      "metadata": {
        "colab": {
          "base_uri": "https://localhost:8080/"
        },
        "id": "ffv5IwvAHtYI",
        "outputId": "c9efa492-8ec1-4914-cb9a-57e860e68a5f"
      },
      "execution_count": 44,
      "outputs": [
        {
          "output_type": "stream",
          "name": "stdout",
          "text": [
            "The word 'python' occurs 3 times in the file.\n"
          ]
        }
      ]
    },
    {
      "cell_type": "markdown",
      "source": [
        "22.How can you check if a file is empty before attempting to read its contents."
      ],
      "metadata": {
        "id": "4nri-SRNIT1n"
      }
    },
    {
      "cell_type": "code",
      "source": [
        "import os\n",
        "\n",
        "filename = 'testfile.txt'\n",
        "\n",
        "if os.path.getsize(filename) == 0:\n",
        "    print(\"File is empty\")\n",
        "else:\n",
        "    with open(filename, 'r') as file:\n",
        "        content = file.read()\n",
        "        print(content)\n"
      ],
      "metadata": {
        "id": "SX38D3L8KfW9"
      },
      "execution_count": null,
      "outputs": []
    },
    {
      "cell_type": "markdown",
      "source": [
        "23.Write a Python program that writes to a log file when an error occurs during file handling."
      ],
      "metadata": {
        "id": "L_lqmiaaLUax"
      }
    },
    {
      "cell_type": "code",
      "source": [
        "import logging\n",
        "\n",
        "# Configure logging to write errors to a log file\n",
        "logging.basicConfig(filename='error_log.txt',\n",
        "                    level=logging.ERROR,\n",
        "                    format='%(asctime)s - %(levelname)s - %(message)s')\n",
        "\n",
        "filename = 'non_existent_file.txt'\n",
        "\n",
        "try:\n",
        "    with open(filename, 'r') as file:\n",
        "        content = file.read()\n",
        "        print(content)\n",
        "except FileNotFoundError as e:\n",
        "    logging.error(f\"File not found: {e}\")\n",
        "    print(\"An error occurred: File not found.\")\n",
        "except IOError as e:\n",
        "    logging.error(f\"I/O error: {e}\")\n",
        "    print(\"An error occurred while handling the file.\")\n"
      ],
      "metadata": {
        "colab": {
          "base_uri": "https://localhost:8080/"
        },
        "id": "XTjiejlzLVSV",
        "outputId": "d447d6dc-2cf8-4fc6-f0fd-c5ecaf837c30"
      },
      "execution_count": 45,
      "outputs": [
        {
          "output_type": "stream",
          "name": "stderr",
          "text": [
            "ERROR:root:File not found: [Errno 2] No such file or directory: 'non_existent_file.txt'\n"
          ]
        },
        {
          "output_type": "stream",
          "name": "stdout",
          "text": [
            "An error occurred: File not found.\n"
          ]
        }
      ]
    },
    {
      "cell_type": "markdown",
      "source": [],
      "metadata": {
        "id": "KDbPL0EaCI1w"
      }
    },
    {
      "cell_type": "markdown",
      "source": [],
      "metadata": {
        "id": "7ygaNb_fOMNo"
      }
    },
    {
      "cell_type": "markdown",
      "source": [],
      "metadata": {
        "id": "POSrHD_TGabr"
      }
    },
    {
      "cell_type": "markdown",
      "source": [],
      "metadata": {
        "id": "fumUqFv1ABse"
      }
    },
    {
      "cell_type": "markdown",
      "source": [],
      "metadata": {
        "id": "trEArp7QJ7_m"
      }
    }
  ]
}